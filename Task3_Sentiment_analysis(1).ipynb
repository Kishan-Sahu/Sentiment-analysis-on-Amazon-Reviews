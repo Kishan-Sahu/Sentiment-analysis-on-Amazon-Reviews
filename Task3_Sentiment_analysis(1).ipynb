{
 "cells": [
  {
   "cell_type": "markdown",
   "metadata": {},
   "source": [
    "# Train and Predict\n",
    "In this notebook i train the model using LSTM neural network and Word2Vector word embedding on the given data."
   ]
  },
  {
   "cell_type": "code",
   "execution_count": 222,
   "metadata": {
    "id": "fcTN_3gG2mjs"
   },
   "outputs": [],
   "source": [
    "import numpy as np\n",
    "import pandas as pd\n",
    "import matplotlib.pyplot as plt\n",
    "import nltk\n",
    "from nltk.corpus import stopwords\n",
    "import re\n",
    "from keras.preprocessing.text import Tokenizer\n",
    "from keras.preprocessing.sequence import pad_sequences\n",
    "import gensim\n",
    "from sklearn.preprocessing import LabelEncoder\n",
    "from keras.layers import Embedding\n",
    "from keras.models import Sequential\n",
    "from keras.layers import Dense,LSTM,Dropout\n",
    "from sklearn.metrics import confusion_matrix,accuracy_score,classification_report"
   ]
  },
  {
   "cell_type": "code",
   "execution_count": 223,
   "metadata": {
    "id": "VFZcZmln4fhM"
   },
   "outputs": [],
   "source": [
    "df = pd.read_csv(\"stanford-sentiment-treebank.train.csv\")             #data on which the model will trained"
   ]
  },
  {
   "cell_type": "code",
   "execution_count": 224,
   "metadata": {
    "colab": {
     "base_uri": "https://localhost:8080/",
     "height": 198
    },
    "id": "bU9jNibH43FR",
    "outputId": "6f2b8353-4392-4227-a08a-c0cff1ee6ed2"
   },
   "outputs": [
    {
     "data": {
      "text/html": [
       "<div>\n",
       "<style scoped>\n",
       "    .dataframe tbody tr th:only-of-type {\n",
       "        vertical-align: middle;\n",
       "    }\n",
       "\n",
       "    .dataframe tbody tr th {\n",
       "        vertical-align: top;\n",
       "    }\n",
       "\n",
       "    .dataframe thead th {\n",
       "        text-align: right;\n",
       "    }\n",
       "</style>\n",
       "<table border=\"1\" class=\"dataframe\">\n",
       "  <thead>\n",
       "    <tr style=\"text-align: right;\">\n",
       "      <th></th>\n",
       "      <th>id</th>\n",
       "      <th>phrase</th>\n",
       "      <th>sentiment</th>\n",
       "      <th>fine</th>\n",
       "      <th>coarse</th>\n",
       "    </tr>\n",
       "  </thead>\n",
       "  <tbody>\n",
       "    <tr>\n",
       "      <th>0</th>\n",
       "      <td>22935</td>\n",
       "      <td>! '</td>\n",
       "      <td>0.52778</td>\n",
       "      <td>neutral</td>\n",
       "      <td>neutral</td>\n",
       "    </tr>\n",
       "    <tr>\n",
       "      <th>1</th>\n",
       "      <td>18235</td>\n",
       "      <td>! ''</td>\n",
       "      <td>0.50000</td>\n",
       "      <td>neutral</td>\n",
       "      <td>neutral</td>\n",
       "    </tr>\n",
       "    <tr>\n",
       "      <th>2</th>\n",
       "      <td>179257</td>\n",
       "      <td>! Alas</td>\n",
       "      <td>0.44444</td>\n",
       "      <td>neutral</td>\n",
       "      <td>neutral</td>\n",
       "    </tr>\n",
       "    <tr>\n",
       "      <th>3</th>\n",
       "      <td>22936</td>\n",
       "      <td>! Brilliant</td>\n",
       "      <td>0.86111</td>\n",
       "      <td>very positive</td>\n",
       "      <td>positive</td>\n",
       "    </tr>\n",
       "    <tr>\n",
       "      <th>4</th>\n",
       "      <td>40532</td>\n",
       "      <td>! Brilliant !</td>\n",
       "      <td>0.93056</td>\n",
       "      <td>very positive</td>\n",
       "      <td>positive</td>\n",
       "    </tr>\n",
       "  </tbody>\n",
       "</table>\n",
       "</div>"
      ],
      "text/plain": [
       "       id         phrase  sentiment           fine    coarse\n",
       "0   22935            ! '    0.52778        neutral   neutral\n",
       "1   18235           ! ''    0.50000        neutral   neutral\n",
       "2  179257         ! Alas    0.44444        neutral   neutral\n",
       "3   22936    ! Brilliant    0.86111  very positive  positive\n",
       "4   40532  ! Brilliant !    0.93056  very positive  positive"
      ]
     },
     "execution_count": 224,
     "metadata": {
      "tags": []
     },
     "output_type": "execute_result"
    }
   ],
   "source": [
    "df.head()"
   ]
  },
  {
   "cell_type": "code",
   "execution_count": 225,
   "metadata": {
    "id": "kEnemRNX7cv3"
   },
   "outputs": [],
   "source": [
    "new_df=df.rename(columns={'coarse':'sentiments'})[['phrase','sentiments']]         #create new dataframe taking only text and their respective sentiments"
   ]
  },
  {
   "cell_type": "code",
   "execution_count": 226,
   "metadata": {
    "colab": {
     "base_uri": "https://localhost:8080/",
     "height": 198
    },
    "id": "y6J1tvRz74jK",
    "outputId": "289153f7-9971-46c9-ebff-5dd8f5328ff2"
   },
   "outputs": [
    {
     "data": {
      "text/html": [
       "<div>\n",
       "<style scoped>\n",
       "    .dataframe tbody tr th:only-of-type {\n",
       "        vertical-align: middle;\n",
       "    }\n",
       "\n",
       "    .dataframe tbody tr th {\n",
       "        vertical-align: top;\n",
       "    }\n",
       "\n",
       "    .dataframe thead th {\n",
       "        text-align: right;\n",
       "    }\n",
       "</style>\n",
       "<table border=\"1\" class=\"dataframe\">\n",
       "  <thead>\n",
       "    <tr style=\"text-align: right;\">\n",
       "      <th></th>\n",
       "      <th>phrase</th>\n",
       "      <th>sentiments</th>\n",
       "    </tr>\n",
       "  </thead>\n",
       "  <tbody>\n",
       "    <tr>\n",
       "      <th>0</th>\n",
       "      <td>! '</td>\n",
       "      <td>neutral</td>\n",
       "    </tr>\n",
       "    <tr>\n",
       "      <th>1</th>\n",
       "      <td>! ''</td>\n",
       "      <td>neutral</td>\n",
       "    </tr>\n",
       "    <tr>\n",
       "      <th>2</th>\n",
       "      <td>! Alas</td>\n",
       "      <td>neutral</td>\n",
       "    </tr>\n",
       "    <tr>\n",
       "      <th>3</th>\n",
       "      <td>! Brilliant</td>\n",
       "      <td>positive</td>\n",
       "    </tr>\n",
       "    <tr>\n",
       "      <th>4</th>\n",
       "      <td>! Brilliant !</td>\n",
       "      <td>positive</td>\n",
       "    </tr>\n",
       "  </tbody>\n",
       "</table>\n",
       "</div>"
      ],
      "text/plain": [
       "          phrase sentiments\n",
       "0            ! '    neutral\n",
       "1           ! ''    neutral\n",
       "2         ! Alas    neutral\n",
       "3    ! Brilliant   positive\n",
       "4  ! Brilliant !   positive"
      ]
     },
     "execution_count": 226,
     "metadata": {
      "tags": []
     },
     "output_type": "execute_result"
    }
   ],
   "source": [
    "new_df.head()"
   ]
  },
  {
   "cell_type": "code",
   "execution_count": 227,
   "metadata": {
    "id": "78IfavOznK25"
   },
   "outputs": [],
   "source": [
    "#new_df = new_df[new_df.sentiments != \"neutral\"].reset_index(drop=True)   # if not want to include neutral sentiment"
   ]
  },
  {
   "cell_type": "code",
   "execution_count": 228,
   "metadata": {
    "id": "ajryGrJm8UtP"
   },
   "outputs": [],
   "source": [
    "new_df = new_df[:80000]  #large dataset take large time to train so taken a sufficient data. More data will help to improve the accuracy"
   ]
  },
  {
   "cell_type": "code",
   "execution_count": 229,
   "metadata": {
    "colab": {
     "base_uri": "https://localhost:8080/",
     "height": 52
    },
    "id": "yBQ8LZebwHDk",
    "outputId": "adf27b1a-9f86-4096-ac38-19a5c589f03b"
   },
   "outputs": [
    {
     "data": {
      "application/vnd.google.colaboratory.intrinsic+json": {
       "type": "string"
      },
      "text/plain": [
       "\"' is the kind of engaging historical drama that Hollywood appears to have given up on in favor of sentimental war movies in the vein of ` We Were Soldiers . '\""
      ]
     },
     "execution_count": 229,
     "metadata": {
      "tags": []
     },
     "output_type": "execute_result"
    }
   ],
   "source": [
    "new_df['phrase'][50]"
   ]
  },
  {
   "cell_type": "markdown",
   "metadata": {
    "id": "8lHklNuZvv2U"
   },
   "source": [
    "## **Data preprocessing**\n",
    "\n",
    "The first step when building a neural network model is getting your data into the proper form to feed into the network. Since we're using embedding layers, we'll need to encode each word with an integer. We'll also want to clean it up a bit.\n",
    "\n",
    "You can see an example of the reviews data above. We'll want to get rid of all unnecessary words and special characters which have not so much importance as for training purpose. Let's remove all punctuation,special characters and convert to lower case."
   ]
  },
  {
   "cell_type": "code",
   "execution_count": null,
   "metadata": {
    "id": "EDH67kIU89Y6"
   },
   "outputs": [],
   "source": [
    "nltk.download('stopwords')\n",
    "stop_words=set(stopwords.words('english'))\n",
    "stop_words.remove('not')"
   ]
  },
  {
   "cell_type": "code",
   "execution_count": 231,
   "metadata": {
    "id": "6MJokMUx_Bsf"
   },
   "outputs": [],
   "source": [
    "from nltk.stem import SnowballStemmer\n",
    "stemmer = SnowballStemmer(\"english\")\n",
    "corpus=[]\n",
    "for i in range(0,len(new_df)):\n",
    "    review=re.sub('@\\S+|https?:\\S+|http?:\\S|[^A-Za-z0-9]+',' ',new_df['phrase'][i])\n",
    "    review=review.lower()\n",
    "    review=review.split()\n",
    "    review=[word for word in review if not word in stop_words]\n",
    "    review=[stemmer.stem(word) for word in review]\n",
    "    review=' '.join(review)\n",
    "    corpus.append(review)"
   ]
  },
  {
   "cell_type": "code",
   "execution_count": 232,
   "metadata": {
    "id": "5cz2M9vtGMpW"
   },
   "outputs": [],
   "source": [
    "from sklearn.model_selection import train_test_split\n",
    "train_df,test_df=train_test_split(new_df,test_size=0.20,random_state=123)         #split the data to train and test"
   ]
  },
  {
   "cell_type": "code",
   "execution_count": 233,
   "metadata": {
    "id": "L8MkPlgiBcBL"
   },
   "outputs": [],
   "source": [
    "documents = [text.split() for text in train_df.phrase]"
   ]
  },
  {
   "cell_type": "code",
   "execution_count": 234,
   "metadata": {
    "id": "iczUQYgtCOUh"
   },
   "outputs": [],
   "source": [
    "w2v_model = gensim.models.word2vec.Word2Vec(size=300,                       \n",
    "                                            window=7, \n",
    "                                            min_count=10, \n",
    "                                            workers=8)"
   ]
  },
  {
   "cell_type": "code",
   "execution_count": 235,
   "metadata": {
    "id": "BppijX7YCY4C"
   },
   "outputs": [],
   "source": [
    "w2v_model.build_vocab(documents)      #Create a word2vector from the given data set"
   ]
  },
  {
   "cell_type": "code",
   "execution_count": 236,
   "metadata": {
    "colab": {
     "base_uri": "https://localhost:8080/",
     "height": 34
    },
    "id": "8IZW0w9BCgvW",
    "outputId": "224ab2c6-5442-4214-a80c-8837c49748da"
   },
   "outputs": [
    {
     "name": "stdout",
     "output_type": "stream",
     "text": [
      "Vocab size 6665\n"
     ]
    }
   ],
   "source": [
    "words = w2v_model.wv.vocab.keys()\n",
    "vocab_size = len(words)\n",
    "print(\"Vocab size\", vocab_size)"
   ]
  },
  {
   "cell_type": "code",
   "execution_count": 237,
   "metadata": {
    "colab": {
     "base_uri": "https://localhost:8080/",
     "height": 34
    },
    "id": "Xz0pZV6aCrN0",
    "outputId": "61dcb0c3-5fab-4e2c-9763-9ebf0fc2a45a"
   },
   "outputs": [
    {
     "data": {
      "text/plain": [
       "(13197456, 19743000)"
      ]
     },
     "execution_count": 237,
     "metadata": {
      "tags": []
     },
     "output_type": "execute_result"
    }
   ],
   "source": [
    "w2v_model.train(documents, total_examples=len(documents), epochs=30)            #Training Word2Vector model"
   ]
  },
  {
   "cell_type": "code",
   "execution_count": 239,
   "metadata": {
    "colab": {
     "base_uri": "https://localhost:8080/",
     "height": 244
    },
    "id": "UtbeMKLPDDrt",
    "outputId": "f919ddfd-e6da-48da-fd98-2608b89845cd"
   },
   "outputs": [
    {
     "name": "stderr",
     "output_type": "stream",
     "text": [
      "/usr/local/lib/python3.6/dist-packages/gensim/matutils.py:737: FutureWarning: Conversion of the second argument of issubdtype from `int` to `np.signedinteger` is deprecated. In future, it will be treated as `np.int64 == np.dtype(int).type`.\n",
      "  if np.issubdtype(vec.dtype, np.int):\n"
     ]
    },
    {
     "data": {
      "text/plain": [
       "[('mad', 0.3633460998535156),\n",
       " ('contemplative', 0.33745622634887695),\n",
       " ('self-satisfied', 0.33588823676109314),\n",
       " ('sexually', 0.3321208655834198),\n",
       " ('unpleasant', 0.3214070796966553),\n",
       " ('thought-provoking', 0.3183754086494446),\n",
       " ('observant', 0.3173168897628784),\n",
       " ('chilling', 0.3171353340148926),\n",
       " ('sexuality', 0.3055786192417145),\n",
       " ('vivid', 0.30030956864356995)]"
      ]
     },
     "execution_count": 239,
     "metadata": {
      "tags": []
     },
     "output_type": "execute_result"
    }
   ],
   "source": [
    "w2v_model.wv.most_similar(\"beautiful\")                      #showing closest word"
   ]
  },
  {
   "cell_type": "code",
   "execution_count": 240,
   "metadata": {
    "colab": {
     "base_uri": "https://localhost:8080/",
     "height": 244
    },
    "id": "kI8dshgmDFpc",
    "outputId": "5ddd9ef8-9b2d-4340-ae0a-6f92231e1004"
   },
   "outputs": [
    {
     "name": "stderr",
     "output_type": "stream",
     "text": [
      "/usr/local/lib/python3.6/dist-packages/gensim/matutils.py:737: FutureWarning: Conversion of the second argument of issubdtype from `int` to `np.signedinteger` is deprecated. In future, it will be treated as `np.int64 == np.dtype(int).type`.\n",
      "  if np.issubdtype(vec.dtype, np.int):\n"
     ]
    },
    {
     "data": {
      "text/plain": [
       "[('film', 0.4467891752719879),\n",
       " ('picture', 0.3497546315193176),\n",
       " ('thing', 0.34596139192581177),\n",
       " ('flick', 0.30763041973114014),\n",
       " ('documentary', 0.30453354120254517),\n",
       " ('cartoon', 0.2991136908531189),\n",
       " ('sequel', 0.29513829946517944),\n",
       " ('Spy', 0.2857236862182617),\n",
       " ('project', 0.2849161922931671),\n",
       " ('thriller', 0.2817550301551819)]"
      ]
     },
     "execution_count": 240,
     "metadata": {
      "tags": []
     },
     "output_type": "execute_result"
    }
   ],
   "source": [
    "w2v_model.wv.most_similar(\"movie\")"
   ]
  },
  {
   "cell_type": "code",
   "execution_count": 241,
   "metadata": {
    "colab": {
     "base_uri": "https://localhost:8080/",
     "height": 244
    },
    "id": "D5AU1R_eEQUO",
    "outputId": "4ee0f709-db72-4f6a-ff70-44a8efa0bef6"
   },
   "outputs": [
    {
     "name": "stderr",
     "output_type": "stream",
     "text": [
      "/usr/local/lib/python3.6/dist-packages/gensim/matutils.py:737: FutureWarning: Conversion of the second argument of issubdtype from `int` to `np.signedinteger` is deprecated. In future, it will be treated as `np.int64 == np.dtype(int).type`.\n",
      "  if np.issubdtype(vec.dtype, np.int):\n"
     ]
    },
    {
     "data": {
      "text/plain": [
       "[('institution', 0.5018695592880249),\n",
       " ('Hardly', 0.49068161845207214),\n",
       " ('irresistible', 0.4683215916156769),\n",
       " ('astounding', 0.45489925146102905),\n",
       " ('amusement', 0.4511985182762146),\n",
       " ('astonishingly', 0.4453026354312897),\n",
       " ('layered', 0.4427262842655182),\n",
       " ('Buy', 0.4301478862762451),\n",
       " ('exquisite', 0.4219828248023987),\n",
       " ('ungainly', 0.4201950430870056)]"
      ]
     },
     "execution_count": 241,
     "metadata": {
      "tags": []
     },
     "output_type": "execute_result"
    }
   ],
   "source": [
    "w2v_model.wv.most_similar(\"amazing\")"
   ]
  },
  {
   "cell_type": "code",
   "execution_count": 242,
   "metadata": {
    "id": "wdb_w6p1EWXv"
   },
   "outputs": [],
   "source": [
    "tokenizer = Tokenizer()\n",
    "tokenizer.fit_on_texts(train_df.phrase)               #Use Tokenizer to get the numerical data"
   ]
  },
  {
   "cell_type": "code",
   "execution_count": 243,
   "metadata": {
    "colab": {
     "base_uri": "https://localhost:8080/",
     "height": 1000
    },
    "id": "Sa3urjRrEqWR",
    "outputId": "79b3c095-c4a8-4750-f728-0d2c63f8c5fe"
   },
   "outputs": [
    {
     "data": {
      "text/plain": [
       "{'the': 1,\n",
       " 'a': 2,\n",
       " 'and': 3,\n",
       " 'of': 4,\n",
       " 'to': 5,\n",
       " 'is': 6,\n",
       " 'in': 7,\n",
       " 'that': 8,\n",
       " 'it': 9,\n",
       " 'as': 10,\n",
       " 'an': 11,\n",
       " 'for': 12,\n",
       " 'with': 13,\n",
       " 'its': 14,\n",
       " 'movie': 15,\n",
       " 'film': 16,\n",
       " 'but': 17,\n",
       " 'this': 18,\n",
       " 'be': 19,\n",
       " 'by': 20,\n",
       " \"it's\": 21,\n",
       " 'on': 22,\n",
       " 'more': 23,\n",
       " 'you': 24,\n",
       " 'not': 25,\n",
       " \"''\": 26,\n",
       " 'has': 27,\n",
       " 'like': 28,\n",
       " 'at': 29,\n",
       " 'one': 30,\n",
       " 'his': 31,\n",
       " 'are': 32,\n",
       " 'from': 33,\n",
       " 'than': 34,\n",
       " 'about': 35,\n",
       " 'all': 36,\n",
       " 'have': 37,\n",
       " \"'s\": 38,\n",
       " 'or': 39,\n",
       " 'good': 40,\n",
       " 'so': 41,\n",
       " \"'\": 42,\n",
       " 'story': 43,\n",
       " 'just': 44,\n",
       " 'out': 45,\n",
       " 'too': 46,\n",
       " 'if': 47,\n",
       " 'into': 48,\n",
       " 'up': 49,\n",
       " 'i': 50,\n",
       " 'who': 51,\n",
       " 'most': 52,\n",
       " 'funny': 53,\n",
       " 'even': 54,\n",
       " 'time': 55,\n",
       " 'can': 56,\n",
       " 'comedy': 57,\n",
       " 'no': 58,\n",
       " 'characters': 59,\n",
       " 'much': 60,\n",
       " 'well': 61,\n",
       " 'bad': 62,\n",
       " 'little': 63,\n",
       " 'some': 64,\n",
       " 'what': 65,\n",
       " 'make': 66,\n",
       " 'very': 67,\n",
       " 'been': 68,\n",
       " 'way': 69,\n",
       " 'enough': 70,\n",
       " 'their': 71,\n",
       " 'your': 72,\n",
       " 'makes': 73,\n",
       " 'best': 74,\n",
       " 'life': 75,\n",
       " 'any': 76,\n",
       " 'will': 77,\n",
       " 'work': 78,\n",
       " 'us': 79,\n",
       " 'great': 80,\n",
       " 'made': 81,\n",
       " 'love': 82,\n",
       " 'action': 83,\n",
       " 'only': 84,\n",
       " 'new': 85,\n",
       " \"doesn't\": 86,\n",
       " 'which': 87,\n",
       " 'he': 88,\n",
       " 'fun': 89,\n",
       " 'never': 90,\n",
       " 'may': 91,\n",
       " 'her': 92,\n",
       " 'director': 93,\n",
       " 'something': 94,\n",
       " 'movies': 95,\n",
       " 'off': 96,\n",
       " 'when': 97,\n",
       " 'look': 98,\n",
       " 'performances': 99,\n",
       " 'how': 100,\n",
       " 'could': 101,\n",
       " 'better': 102,\n",
       " \"isn't\": 103,\n",
       " 'many': 104,\n",
       " 'humor': 105,\n",
       " 'they': 106,\n",
       " 'drama': 107,\n",
       " 'was': 108,\n",
       " 'long': 109,\n",
       " 'them': 110,\n",
       " 'being': 111,\n",
       " 'see': 112,\n",
       " 'own': 113,\n",
       " 'still': 114,\n",
       " 'does': 115,\n",
       " 'would': 116,\n",
       " 'through': 117,\n",
       " 'old': 118,\n",
       " 'big': 119,\n",
       " 'every': 120,\n",
       " 'sense': 121,\n",
       " 'two': 122,\n",
       " 'interesting': 123,\n",
       " 'cast': 124,\n",
       " 'plot': 125,\n",
       " 'films': 126,\n",
       " 'really': 127,\n",
       " 'feel': 128,\n",
       " 'heart': 129,\n",
       " 'both': 130,\n",
       " \"that's\": 131,\n",
       " 'first': 132,\n",
       " 'get': 133,\n",
       " 'people': 134,\n",
       " 'other': 135,\n",
       " 'there': 136,\n",
       " 'far': 137,\n",
       " 'also': 138,\n",
       " 'character': 139,\n",
       " 'performance': 140,\n",
       " 'because': 141,\n",
       " 'another': 142,\n",
       " 'nothing': 143,\n",
       " 'self': 144,\n",
       " 'over': 145,\n",
       " 'down': 146,\n",
       " 'we': 147,\n",
       " 'real': 148,\n",
       " 'audience': 149,\n",
       " 'entertaining': 150,\n",
       " 'without': 151,\n",
       " 'hard': 152,\n",
       " 'acting': 153,\n",
       " 'less': 154,\n",
       " 'kind': 155,\n",
       " 'minutes': 156,\n",
       " 'those': 157,\n",
       " 'family': 158,\n",
       " 'screen': 159,\n",
       " 'do': 160,\n",
       " 'such': 161,\n",
       " 'world': 162,\n",
       " 'might': 163,\n",
       " \"don't\": 164,\n",
       " 'while': 165,\n",
       " 'few': 166,\n",
       " 'ever': 167,\n",
       " 'full': 168,\n",
       " 'script': 169,\n",
       " 'hollywood': 170,\n",
       " 'thriller': 171,\n",
       " 'almost': 172,\n",
       " 'should': 173,\n",
       " \"can't\": 174,\n",
       " 'dialogue': 175,\n",
       " 'had': 176,\n",
       " 'quite': 177,\n",
       " 'often': 178,\n",
       " 'human': 179,\n",
       " 'original': 180,\n",
       " 'rather': 181,\n",
       " 'here': 182,\n",
       " 'year': 183,\n",
       " 'my': 184,\n",
       " 'tale': 185,\n",
       " 'go': 186,\n",
       " 'american': 187,\n",
       " 'watch': 188,\n",
       " 'feels': 189,\n",
       " 'man': 190,\n",
       " 'picture': 191,\n",
       " 'itself': 192,\n",
       " 'right': 193,\n",
       " \"there's\": 194,\n",
       " 'end': 195,\n",
       " 'after': 196,\n",
       " 'watching': 197,\n",
       " 'fascinating': 198,\n",
       " 'compelling': 199,\n",
       " 'find': 200,\n",
       " 'worth': 201,\n",
       " 'going': 202,\n",
       " 'moments': 203,\n",
       " 'lot': 204,\n",
       " 'emotional': 205,\n",
       " 'romantic': 206,\n",
       " 'documentary': 207,\n",
       " 'back': 208,\n",
       " 'gets': 209,\n",
       " 'seen': 210,\n",
       " 'yet': 211,\n",
       " 'dull': 212,\n",
       " 'comes': 213,\n",
       " 'before': 214,\n",
       " 'scenes': 215,\n",
       " 'me': 216,\n",
       " 'between': 217,\n",
       " 'actors': 218,\n",
       " 'come': 219,\n",
       " 'these': 220,\n",
       " 'style': 221,\n",
       " 'thing': 222,\n",
       " 'times': 223,\n",
       " \"film's\": 224,\n",
       " 'take': 225,\n",
       " 'half': 226,\n",
       " 'our': 227,\n",
       " 'pretty': 228,\n",
       " 'piece': 229,\n",
       " 'star': 230,\n",
       " \"you're\": 231,\n",
       " 'entertainment': 232,\n",
       " 'give': 233,\n",
       " 'things': 234,\n",
       " 'high': 235,\n",
       " 'mr': 236,\n",
       " 'though': 237,\n",
       " 'same': 238,\n",
       " 'laughs': 239,\n",
       " 'clever': 240,\n",
       " 'seems': 241,\n",
       " 'visual': 242,\n",
       " 'music': 243,\n",
       " 'cinematic': 244,\n",
       " 'material': 245,\n",
       " 'special': 246,\n",
       " 'kids': 247,\n",
       " 'cinema': 248,\n",
       " 'young': 249,\n",
       " 'care': 250,\n",
       " 'years': 251,\n",
       " 'were': 252,\n",
       " 'keep': 253,\n",
       " 'gives': 254,\n",
       " 'where': 255,\n",
       " 'making': 256,\n",
       " 'sweet': 257,\n",
       " 'moving': 258,\n",
       " 'flick': 259,\n",
       " 'bit': 260,\n",
       " 'enjoyable': 261,\n",
       " 'least': 262,\n",
       " 'anything': 263,\n",
       " 'ultimately': 264,\n",
       " 'know': 265,\n",
       " 'low': 266,\n",
       " 'him': 267,\n",
       " 'away': 268,\n",
       " 'last': 269,\n",
       " 'intelligent': 270,\n",
       " 'seem': 271,\n",
       " 'point': 272,\n",
       " 'fresh': 273,\n",
       " 'beautiful': 274,\n",
       " 'subject': 275,\n",
       " 'direction': 276,\n",
       " 'always': 277,\n",
       " 'done': 278,\n",
       " 'charming': 279,\n",
       " 'dumb': 280,\n",
       " 'part': 281,\n",
       " 'again': 282,\n",
       " 'together': 283,\n",
       " 'amusing': 284,\n",
       " 'video': 285,\n",
       " 'experience': 286,\n",
       " 'art': 287,\n",
       " 'nearly': 288,\n",
       " 'looking': 289,\n",
       " 'true': 290,\n",
       " 'enjoy': 291,\n",
       " 'engaging': 292,\n",
       " 'why': 293,\n",
       " 'once': 294,\n",
       " 'smart': 295,\n",
       " 'day': 296,\n",
       " 'charm': 297,\n",
       " 'say': 298,\n",
       " 'takes': 299,\n",
       " 'then': 300,\n",
       " 'silly': 301,\n",
       " 'mind': 302,\n",
       " 'minute': 303,\n",
       " \"he's\": 304,\n",
       " 'history': 305,\n",
       " 'think': 306,\n",
       " 'effects': 307,\n",
       " 'actually': 308,\n",
       " 'comic': 309,\n",
       " 'anyone': 310,\n",
       " 'show': 311,\n",
       " 'classic': 312,\n",
       " 'de': 313,\n",
       " 'simply': 314,\n",
       " 'worst': 315,\n",
       " 'dark': 316,\n",
       " 'energy': 317,\n",
       " 'solid': 318,\n",
       " 'fine': 319,\n",
       " 'sometimes': 320,\n",
       " 'since': 321,\n",
       " 'horror': 322,\n",
       " 'feeling': 323,\n",
       " 'predictable': 324,\n",
       " 'genre': 325,\n",
       " 'want': 326,\n",
       " 'works': 327,\n",
       " 'place': 328,\n",
       " 'around': 329,\n",
       " 'interest': 330,\n",
       " 'light': 331,\n",
       " 'goes': 332,\n",
       " 'whole': 333,\n",
       " 'war': 334,\n",
       " 'easy': 335,\n",
       " 'powerful': 336,\n",
       " 'feature': 337,\n",
       " 'series': 338,\n",
       " 'fans': 339,\n",
       " 'manages': 340,\n",
       " 'instead': 341,\n",
       " 'coming': 342,\n",
       " 'trying': 343,\n",
       " 'despite': 344,\n",
       " 'perfect': 345,\n",
       " 'strong': 346,\n",
       " 'especially': 347,\n",
       " 'idea': 348,\n",
       " 'romance': 349,\n",
       " 'laugh': 350,\n",
       " 'hour': 351,\n",
       " 'filmmaking': 352,\n",
       " 'wit': 353,\n",
       " 'three': 354,\n",
       " 'deeply': 355,\n",
       " 'past': 356,\n",
       " 'dramatic': 357,\n",
       " 'age': 358,\n",
       " 'slow': 359,\n",
       " 'become': 360,\n",
       " 'familiar': 361,\n",
       " 'screenplay': 362,\n",
       " 'becomes': 363,\n",
       " 'impossible': 364,\n",
       " 'set': 365,\n",
       " 'study': 366,\n",
       " 'narrative': 367,\n",
       " 'boring': 368,\n",
       " 'thought': 369,\n",
       " 'honest': 370,\n",
       " 'writer': 371,\n",
       " 'intriguing': 372,\n",
       " 'theater': 373,\n",
       " 'lack': 374,\n",
       " 'lacks': 375,\n",
       " 'beautifully': 376,\n",
       " 'quirky': 377,\n",
       " 'leave': 378,\n",
       " 'filmmakers': 379,\n",
       " 'women': 380,\n",
       " 'power': 381,\n",
       " 'under': 382,\n",
       " 'flat': 383,\n",
       " 'mess': 384,\n",
       " 'face': 385,\n",
       " 'cool': 386,\n",
       " 'shot': 387,\n",
       " 'written': 388,\n",
       " 'short': 389,\n",
       " 'spirit': 390,\n",
       " 'rare': 391,\n",
       " 'whose': 392,\n",
       " 'intelligence': 393,\n",
       " 'everyone': 394,\n",
       " 'hilarious': 395,\n",
       " 'effort': 396,\n",
       " 'surprisingly': 397,\n",
       " 'each': 398,\n",
       " 'portrait': 399,\n",
       " 'modern': 400,\n",
       " \"didn't\": 401,\n",
       " 'gentle': 402,\n",
       " 'tv': 403,\n",
       " 'sad': 404,\n",
       " 'himself': 405,\n",
       " 'brilliant': 406,\n",
       " 'certainly': 407,\n",
       " 'premise': 408,\n",
       " \"you'll\": 409,\n",
       " 'ideas': 410,\n",
       " 'black': 411,\n",
       " 'satisfying': 412,\n",
       " 'need': 413,\n",
       " 'left': 414,\n",
       " 'actor': 415,\n",
       " 'talent': 416,\n",
       " 'she': 417,\n",
       " 'stuff': 418,\n",
       " 'gorgeous': 419,\n",
       " 'debut': 420,\n",
       " 'jokes': 421,\n",
       " 'eye': 422,\n",
       " 'ride': 423,\n",
       " 'either': 424,\n",
       " 'looks': 425,\n",
       " 'adventure': 426,\n",
       " 'next': 427,\n",
       " 'truly': 428,\n",
       " 'completely': 429,\n",
       " 'exercise': 430,\n",
       " 'school': 431,\n",
       " 'hours': 432,\n",
       " 'sort': 433,\n",
       " 'summer': 434,\n",
       " 'fact': 435,\n",
       " 'project': 436,\n",
       " 'pleasure': 437,\n",
       " 'else': 438,\n",
       " 'easily': 439,\n",
       " 'head': 440,\n",
       " 'small': 441,\n",
       " 'everything': 442,\n",
       " 'passion': 443,\n",
       " 'now': 444,\n",
       " 'likely': 445,\n",
       " 'delivers': 446,\n",
       " 'matter': 447,\n",
       " 'touching': 448,\n",
       " 'play': 449,\n",
       " 'along': 450,\n",
       " 'home': 451,\n",
       " 'title': 452,\n",
       " 'john': 453,\n",
       " 'worthy': 454,\n",
       " 'sure': 455,\n",
       " 'probably': 456,\n",
       " 'role': 457,\n",
       " 'put': 458,\n",
       " 'level': 459,\n",
       " 'book': 460,\n",
       " \"movie's\": 461,\n",
       " 'filmmaker': 462,\n",
       " 'girl': 463,\n",
       " 'excellent': 464,\n",
       " 'above': 465,\n",
       " \"won't\": 466,\n",
       " 'suspense': 467,\n",
       " 'tone': 468,\n",
       " 'culture': 469,\n",
       " 'reason': 470,\n",
       " 'complex': 471,\n",
       " 'men': 472,\n",
       " 'decent': 473,\n",
       " 'ending': 474,\n",
       " 'middle': 475,\n",
       " 'b': 476,\n",
       " 'spy': 477,\n",
       " 'version': 478,\n",
       " 'ends': 479,\n",
       " 'difficult': 480,\n",
       " 'believe': 481,\n",
       " 'obvious': 482,\n",
       " 'wrong': 483,\n",
       " 'epic': 484,\n",
       " 'did': 485,\n",
       " 'emotionally': 486,\n",
       " 'fails': 487,\n",
       " 'live': 488,\n",
       " 'cold': 489,\n",
       " 'serious': 490,\n",
       " 'french': 491,\n",
       " 'acted': 492,\n",
       " 'death': 493,\n",
       " 'melodrama': 494,\n",
       " 'directed': 495,\n",
       " 'reality': 496,\n",
       " 'dead': 497,\n",
       " 'got': 498,\n",
       " 'beyond': 499,\n",
       " 'audiences': 500,\n",
       " 'viewers': 501,\n",
       " 'terrific': 502,\n",
       " 'memorable': 503,\n",
       " 'already': 504,\n",
       " 'offers': 505,\n",
       " 'having': 506,\n",
       " 'job': 507,\n",
       " 'cheap': 508,\n",
       " \"what's\": 509,\n",
       " 'attempt': 510,\n",
       " 'wonderful': 511,\n",
       " 'found': 512,\n",
       " 'loud': 513,\n",
       " 'rich': 514,\n",
       " 'scene': 515,\n",
       " 'storytelling': 516,\n",
       " 'personal': 517,\n",
       " 'camera': 518,\n",
       " 'heavy': 519,\n",
       " 'attention': 520,\n",
       " 'line': 521,\n",
       " 'ambitious': 522,\n",
       " 'contrived': 523,\n",
       " 'run': 524,\n",
       " 'barely': 525,\n",
       " 'imagination': 526,\n",
       " 'lives': 527,\n",
       " 'must': 528,\n",
       " 'earnest': 529,\n",
       " 'journey': 530,\n",
       " 'oscar': 531,\n",
       " 'nice': 532,\n",
       " 'budget': 533,\n",
       " 'message': 534,\n",
       " 'formula': 535,\n",
       " 'opera': 536,\n",
       " 'pace': 537,\n",
       " 'stories': 538,\n",
       " 'writing': 539,\n",
       " 'problem': 540,\n",
       " 'against': 541,\n",
       " 'pretentious': 542,\n",
       " 'important': 543,\n",
       " 'imagine': 544,\n",
       " 'genuine': 545,\n",
       " 'getting': 546,\n",
       " 'depth': 547,\n",
       " 'animation': 548,\n",
       " 'visually': 549,\n",
       " 'class': 550,\n",
       " 'possible': 551,\n",
       " 'impressive': 552,\n",
       " 'images': 553,\n",
       " 'deep': 554,\n",
       " 'children': 555,\n",
       " \"i'm\": 556,\n",
       " 'joke': 557,\n",
       " 'simple': 558,\n",
       " 'rock': 559,\n",
       " 'falls': 560,\n",
       " 'recent': 561,\n",
       " 'different': 562,\n",
       " 'engrossing': 563,\n",
       " 'bland': 564,\n",
       " 'fairly': 565,\n",
       " 'fast': 566,\n",
       " 'top': 567,\n",
       " 'crime': 568,\n",
       " 'beauty': 569,\n",
       " 'turns': 570,\n",
       " 'future': 571,\n",
       " 'whether': 572,\n",
       " 'cute': 573,\n",
       " 'gags': 574,\n",
       " 'hearted': 575,\n",
       " 'worse': 576,\n",
       " 'lost': 577,\n",
       " 'career': 578,\n",
       " 'awful': 579,\n",
       " 'thin': 580,\n",
       " 'psychological': 581,\n",
       " 'thoughtful': 582,\n",
       " 'highly': 583,\n",
       " 'concept': 584,\n",
       " 'keeps': 585,\n",
       " 'appealing': 586,\n",
       " 'lovely': 587,\n",
       " 'change': 588,\n",
       " 'stand': 589,\n",
       " 'moral': 590,\n",
       " 'leaves': 591,\n",
       " 'close': 592,\n",
       " 'entirely': 593,\n",
       " 'help': 594,\n",
       " 'inventive': 595,\n",
       " 'second': 596,\n",
       " 'exactly': 597,\n",
       " 'insight': 598,\n",
       " 'knows': 599,\n",
       " 'hit': 600,\n",
       " 'gone': 601,\n",
       " 'ways': 602,\n",
       " 'fi': 603,\n",
       " 'elements': 604,\n",
       " 'particularly': 605,\n",
       " 'production': 606,\n",
       " 'definitely': 607,\n",
       " 'surprising': 608,\n",
       " 'lacking': 609,\n",
       " 'sequel': 610,\n",
       " 'cliches': 611,\n",
       " 'animated': 612,\n",
       " 'game': 613,\n",
       " 'nor': 614,\n",
       " 'sci': 615,\n",
       " 'side': 616,\n",
       " 'mean': 617,\n",
       " 'none': 618,\n",
       " 'adults': 619,\n",
       " 'lots': 620,\n",
       " 'ugly': 621,\n",
       " 'finally': 622,\n",
       " 'quality': 623,\n",
       " 'given': 624,\n",
       " 'creative': 625,\n",
       " 'convincing': 626,\n",
       " 'seeing': 627,\n",
       " 'clear': 628,\n",
       " 'eyes': 629,\n",
       " 'allows': 630,\n",
       " 'sex': 631,\n",
       " 'tragedy': 632,\n",
       " 'able': 633,\n",
       " 'taste': 634,\n",
       " 'paced': 635,\n",
       " 'tired': 636,\n",
       " 'moment': 637,\n",
       " 'filled': 638,\n",
       " 'mystery': 639,\n",
       " 'mostly': 640,\n",
       " 'force': 641,\n",
       " 'pictures': 642,\n",
       " 'social': 643,\n",
       " 'otherwise': 644,\n",
       " 'hope': 645,\n",
       " 'tell': 646,\n",
       " 'warm': 647,\n",
       " 'straight': 648,\n",
       " 'fire': 649,\n",
       " 'crafted': 650,\n",
       " 'masterpiece': 651,\n",
       " 'actress': 652,\n",
       " 'lead': 653,\n",
       " 'case': 654,\n",
       " 'remarkable': 655,\n",
       " 'political': 656,\n",
       " 'winning': 657,\n",
       " 'bring': 658,\n",
       " 'delightful': 659,\n",
       " 'shows': 660,\n",
       " 'pop': 661,\n",
       " 'satire': 662,\n",
       " 'night': 663,\n",
       " 'running': 664,\n",
       " 'turn': 665,\n",
       " 's': 666,\n",
       " 'ms': 667,\n",
       " 'nature': 668,\n",
       " 'talented': 669,\n",
       " 'disney': 670,\n",
       " 'stupid': 671,\n",
       " 'mood': 672,\n",
       " 'hero': 673,\n",
       " 'vision': 674,\n",
       " 'act': 675,\n",
       " 'sequences': 676,\n",
       " 'surprise': 677,\n",
       " 'michael': 678,\n",
       " 'major': 679,\n",
       " 'exciting': 680,\n",
       " 'fashioned': 681,\n",
       " 'expect': 682,\n",
       " '2': 683,\n",
       " 'tedious': 684,\n",
       " 'merely': 685,\n",
       " 'terrible': 686,\n",
       " 'fully': 687,\n",
       " 'four': 688,\n",
       " 'welcome': 689,\n",
       " 'thinking': 690,\n",
       " 'violence': 691,\n",
       " 'ii': 692,\n",
       " 'effective': 693,\n",
       " 'warmth': 694,\n",
       " 'among': 695,\n",
       " 'occasionally': 696,\n",
       " 'fantasy': 697,\n",
       " 'comedies': 698,\n",
       " 'guys': 699,\n",
       " 'bond': 700,\n",
       " 'cut': 701,\n",
       " 'told': 702,\n",
       " \"'ll\": 703,\n",
       " '90': 704,\n",
       " 'house': 705,\n",
       " 'create': 706,\n",
       " 'witty': 707,\n",
       " 'magic': 708,\n",
       " 'single': 709,\n",
       " 'extremely': 710,\n",
       " 'view': 711,\n",
       " 'inside': 712,\n",
       " 'uses': 713,\n",
       " 'intimate': 714,\n",
       " 'couple': 715,\n",
       " 'days': 716,\n",
       " 'painful': 717,\n",
       " 'episode': 718,\n",
       " 'city': 719,\n",
       " 'plays': 720,\n",
       " 'neither': 721,\n",
       " 'add': 722,\n",
       " 'adaptation': 723,\n",
       " \"you've\": 724,\n",
       " 'doing': 725,\n",
       " 'soap': 726,\n",
       " 'open': 727,\n",
       " 'stars': 728,\n",
       " 'energetic': 729,\n",
       " 'themselves': 730,\n",
       " 'water': 731,\n",
       " 'provocative': 732,\n",
       " 'considerable': 733,\n",
       " 'gripping': 734,\n",
       " 'boy': 735,\n",
       " 'taking': 736,\n",
       " 'twists': 737,\n",
       " 'historical': 738,\n",
       " 'novel': 739,\n",
       " 'several': 740,\n",
       " 'points': 741,\n",
       " 'equally': 742,\n",
       " 'waste': 743,\n",
       " 'cultural': 744,\n",
       " 'working': 745,\n",
       " 'happy': 746,\n",
       " 'period': 747,\n",
       " 'trip': 748,\n",
       " 'mindless': 749,\n",
       " 'living': 750,\n",
       " 'strange': 751,\n",
       " 'scary': 752,\n",
       " 'large': 753,\n",
       " 'free': 754,\n",
       " 'ensemble': 755,\n",
       " 'usual': 756,\n",
       " 'entire': 757,\n",
       " 'proves': 758,\n",
       " 'master': 759,\n",
       " 'form': 760,\n",
       " 'examination': 761,\n",
       " 'soul': 762,\n",
       " 'generic': 763,\n",
       " 'wild': 764,\n",
       " 'sound': 765,\n",
       " 'creepy': 766,\n",
       " 'woman': 767,\n",
       " 'originality': 768,\n",
       " 'sentimental': 769,\n",
       " 'approach': 770,\n",
       " 'remains': 771,\n",
       " 'tragic': 772,\n",
       " 'tries': 773,\n",
       " 'bright': 774,\n",
       " 'heaven': 775,\n",
       " 'truth': 776,\n",
       " 'ultimate': 777,\n",
       " 'failure': 778,\n",
       " 'car': 779,\n",
       " 'hate': 780,\n",
       " 'ill': 781,\n",
       " 'sit': 782,\n",
       " 'deal': 783,\n",
       " 'huge': 784,\n",
       " 'poor': 785,\n",
       " 'meaning': 786,\n",
       " 'recommend': 787,\n",
       " 'felt': 788,\n",
       " 'during': 789,\n",
       " 'call': 790,\n",
       " 'captures': 791,\n",
       " 'others': 792,\n",
       " 'dry': 793,\n",
       " 'edge': 794,\n",
       " 'plenty': 795,\n",
       " 'successful': 796,\n",
       " 'hand': 797,\n",
       " '10': 798,\n",
       " 'maybe': 799,\n",
       " 'david': 800,\n",
       " 'motion': 801,\n",
       " 'parents': 802,\n",
       " 'pleasant': 803,\n",
       " 'ability': 804,\n",
       " 'viewer': 805,\n",
       " 'white': 806,\n",
       " 'female': 807,\n",
       " 'badly': 808,\n",
       " 'thoroughly': 809,\n",
       " 'word': 810,\n",
       " 'inspired': 811,\n",
       " 'hip': 812,\n",
       " 'missing': 813,\n",
       " 'colorful': 814,\n",
       " 'meditation': 815,\n",
       " 'yes': 816,\n",
       " 'emotions': 817,\n",
       " 'throughout': 818,\n",
       " 'offer': 819,\n",
       " 'guy': 820,\n",
       " 'certain': 821,\n",
       " \"'re\": 822,\n",
       " 'crowd': 823,\n",
       " 't': 824,\n",
       " 'promise': 825,\n",
       " 'flaws': 826,\n",
       " 'heartfelt': 827,\n",
       " 'brings': 828,\n",
       " 'remake': 829,\n",
       " 'success': 830,\n",
       " 'perfectly': 831,\n",
       " 'sustain': 832,\n",
       " 'deserves': 833,\n",
       " 'stylish': 834,\n",
       " 'casting': 835,\n",
       " 'behind': 836,\n",
       " 'gross': 837,\n",
       " 'depressing': 838,\n",
       " 'tension': 839,\n",
       " 'sharp': 840,\n",
       " 'memory': 841,\n",
       " 'teen': 842,\n",
       " 'appeal': 843,\n",
       " 'playing': 844,\n",
       " 'inspiring': 845,\n",
       " 'weird': 846,\n",
       " 'somewhat': 847,\n",
       " 'remember': 848,\n",
       " 'grace': 849,\n",
       " 'try': 850,\n",
       " 'situation': 851,\n",
       " 'air': 852,\n",
       " 'unfunny': 853,\n",
       " 'utterly': 854,\n",
       " 'date': 855,\n",
       " 'road': 856,\n",
       " 'begins': 857,\n",
       " 'flicks': 858,\n",
       " 'damn': 859,\n",
       " 'manner': 860,\n",
       " 'money': 861,\n",
       " 'ago': 862,\n",
       " 'needs': 863,\n",
       " 'sign': 864,\n",
       " 'ones': 865,\n",
       " 'dog': 866,\n",
       " 'based': 867,\n",
       " 'numbers': 868,\n",
       " 'except': 869,\n",
       " 'company': 870,\n",
       " 'words': 871,\n",
       " 'co': 872,\n",
       " 'supposed': 873,\n",
       " 'realistic': 874,\n",
       " 'although': 875,\n",
       " 'ridiculous': 876,\n",
       " 'complete': 877,\n",
       " 'handed': 878,\n",
       " 'worthwhile': 879,\n",
       " 'imaginative': 880,\n",
       " 'issues': 881,\n",
       " 'artist': 882,\n",
       " 'endearing': 883,\n",
       " 'mediocre': 884,\n",
       " 'hell': 885,\n",
       " 'voice': 886,\n",
       " 'clichés': 887,\n",
       " 'loses': 888,\n",
       " 'mix': 889,\n",
       " 'chemistry': 890,\n",
       " 'brain': 891,\n",
       " 'poetry': 892,\n",
       " 'attempts': 893,\n",
       " 'giving': 894,\n",
       " 'delight': 895,\n",
       " 'absolutely': 896,\n",
       " 'hardly': 897,\n",
       " 'forgettable': 898,\n",
       " 'final': 899,\n",
       " 'surprises': 900,\n",
       " 'avoid': 901,\n",
       " 'use': 902,\n",
       " 'contemporary': 903,\n",
       " \"aren't\": 904,\n",
       " 'list': 905,\n",
       " 'funnier': 906,\n",
       " 'steven': 907,\n",
       " 'politics': 908,\n",
       " 'guilty': 909,\n",
       " 'created': 910,\n",
       " 'lame': 911,\n",
       " 'trouble': 912,\n",
       " 'accessible': 913,\n",
       " 'cinematography': 914,\n",
       " 'drag': 915,\n",
       " 'problems': 916,\n",
       " 'college': 917,\n",
       " 'finds': 918,\n",
       " 'natural': 919,\n",
       " 'called': 920,\n",
       " 'forced': 921,\n",
       " \"you'd\": 922,\n",
       " 'five': 923,\n",
       " 'however': 924,\n",
       " 'mark': 925,\n",
       " 'starts': 926,\n",
       " 'derivative': 927,\n",
       " 'unsettling': 928,\n",
       " 'until': 929,\n",
       " 'events': 930,\n",
       " 'extraordinary': 931,\n",
       " 'alone': 932,\n",
       " 'saw': 933,\n",
       " 'sentimentality': 934,\n",
       " 'execution': 935,\n",
       " 'wants': 936,\n",
       " 'flawed': 937,\n",
       " 'affection': 938,\n",
       " 'spirited': 939,\n",
       " 'apart': 940,\n",
       " 'murder': 941,\n",
       " \"year's\": 942,\n",
       " 'length': 943,\n",
       " 'interested': 944,\n",
       " 'affecting': 945,\n",
       " 'unique': 946,\n",
       " 'bored': 947,\n",
       " 'stunning': 948,\n",
       " 'indulgent': 949,\n",
       " 'frame': 950,\n",
       " 'thanks': 951,\n",
       " 'amount': 952,\n",
       " 'impact': 953,\n",
       " 'greatest': 954,\n",
       " 'miss': 955,\n",
       " 'triumph': 956,\n",
       " 'genuinely': 957,\n",
       " 'provoking': 958,\n",
       " 'start': 959,\n",
       " 'viewing': 960,\n",
       " 'delicate': 961,\n",
       " 'touch': 962,\n",
       " 'sophisticated': 963,\n",
       " 'popcorn': 964,\n",
       " 'refreshing': 965,\n",
       " 'fit': 966,\n",
       " 'die': 967,\n",
       " 'average': 968,\n",
       " 'name': 969,\n",
       " 'wish': 970,\n",
       " 'seat': 971,\n",
       " 'haunting': 972,\n",
       " 'step': 973,\n",
       " 'understand': 974,\n",
       " 'alive': 975,\n",
       " 'across': 976,\n",
       " 'formulaic': 977,\n",
       " \"i've\": 978,\n",
       " 'cartoon': 979,\n",
       " 'yarn': 980,\n",
       " 'core': 981,\n",
       " 'directors': 982,\n",
       " 'mildly': 983,\n",
       " 'spiritual': 984,\n",
       " 'disturbing': 985,\n",
       " 'pure': 986,\n",
       " 'share': 987,\n",
       " 'chance': 988,\n",
       " 'room': 989,\n",
       " 'holds': 990,\n",
       " 'monster': 991,\n",
       " 'relationship': 992,\n",
       " 'admirable': 993,\n",
       " 'generally': 994,\n",
       " 'yourself': 995,\n",
       " 'unusual': 996,\n",
       " 'sitcom': 997,\n",
       " 'weak': 998,\n",
       " 'robert': 999,\n",
       " \"they're\": 1000,\n",
       " ...}"
      ]
     },
     "execution_count": 243,
     "metadata": {
      "tags": []
     },
     "output_type": "execute_result"
    }
   ],
   "source": [
    "tokenizer.word_index                        #map each word with an unique integer based on their frequency of occurence."
   ]
  },
  {
   "cell_type": "code",
   "execution_count": 244,
   "metadata": {
    "colab": {
     "base_uri": "https://localhost:8080/",
     "height": 34
    },
    "id": "k1QsAtu2E3t0",
    "outputId": "7c9565ca-7bc6-4a2a-a2b9-77f0bd47291f"
   },
   "outputs": [
    {
     "data": {
      "text/plain": [
       "17931"
      ]
     },
     "execution_count": 244,
     "metadata": {
      "tags": []
     },
     "output_type": "execute_result"
    }
   ],
   "source": [
    "vocab_size=len(tokenizer.word_index)+1\n",
    "vocab_size                                                        #size of vocubalary created "
   ]
  },
  {
   "cell_type": "code",
   "execution_count": 245,
   "metadata": {
    "colab": {
     "base_uri": "https://localhost:8080/",
     "height": 242
    },
    "id": "ISLfXAHVE_g3",
    "outputId": "caea689c-09c9-48f5-8a04-b9dc77d1d314"
   },
   "outputs": [
    {
     "data": {
      "text/plain": [
       "array([[0.        , 0.        , 0.        , ..., 0.        , 0.00178462,\n",
       "        0.06971167],\n",
       "       [0.        , 0.        , 0.        , ..., 0.00066923, 0.0034577 ,\n",
       "        0.04851932],\n",
       "       [0.        , 0.        , 0.        , ..., 0.00066923, 0.00100385,\n",
       "        0.01812503],\n",
       "       ...,\n",
       "       [0.        , 0.        , 0.        , ..., 0.00117116, 0.01751157,\n",
       "        0.22307735],\n",
       "       [0.        , 0.        , 0.        , ..., 0.00039039, 0.00936925,\n",
       "        0.11811946],\n",
       "       [0.        , 0.        , 0.        , ..., 0.08727901, 0.10155596,\n",
       "        0.00317885]])"
      ]
     },
     "execution_count": 245,
     "metadata": {
      "tags": []
     },
     "output_type": "execute_result"
    }
   ],
   "source": [
    "X_train = pad_sequences(tokenizer.texts_to_sequences(train_df.phrase), maxlen=300)       #apply padding to get the same length\n",
    "X_train/17931                                                                            #Normalize the data "
   ]
  },
  {
   "cell_type": "code",
   "execution_count": 246,
   "metadata": {
    "colab": {
     "base_uri": "https://localhost:8080/",
     "height": 242
    },
    "id": "4zDEwQZrGvmS",
    "outputId": "c8926e59-97db-4203-fbd7-e9c2d611ccd6"
   },
   "outputs": [
    {
     "data": {
      "text/plain": [
       "array([[0.00000000e+00, 0.00000000e+00, 0.00000000e+00, ...,\n",
       "        1.67308014e-04, 1.03284814e-01, 1.43884892e-02],\n",
       "       [0.00000000e+00, 0.00000000e+00, 0.00000000e+00, ...,\n",
       "        2.67692822e-03, 5.57693380e-05, 7.93597680e-02],\n",
       "       [0.00000000e+00, 0.00000000e+00, 0.00000000e+00, ...,\n",
       "        9.03463276e-03, 1.61731080e-03, 4.19943115e-02],\n",
       "       ...,\n",
       "       [0.00000000e+00, 0.00000000e+00, 0.00000000e+00, ...,\n",
       "        3.38798728e-01, 1.67308014e-04, 7.30578328e-02],\n",
       "       [0.00000000e+00, 0.00000000e+00, 0.00000000e+00, ...,\n",
       "        1.50577213e-03, 9.31347945e-03, 4.51731638e-03],\n",
       "       [0.00000000e+00, 0.00000000e+00, 0.00000000e+00, ...,\n",
       "        1.17673303e-02, 2.22073504e-01, 2.28654286e-02]])"
      ]
     },
     "execution_count": 246,
     "metadata": {
      "tags": []
     },
     "output_type": "execute_result"
    }
   ],
   "source": [
    "X_test = pad_sequences(tokenizer.texts_to_sequences(test_df.phrase), maxlen=300)\n",
    "X_test/17931"
   ]
  },
  {
   "cell_type": "code",
   "execution_count": 247,
   "metadata": {
    "colab": {
     "base_uri": "https://localhost:8080/",
     "height": 121
    },
    "id": "Diqb7f9zFexc",
    "outputId": "565c417f-030f-478d-c2ef-397f1e6ab3de"
   },
   "outputs": [
    {
     "data": {
      "text/plain": [
       "41251    positive\n",
       "31074    negative\n",
       "33410    positive\n",
       "74109    positive\n",
       "25690    positive\n",
       "Name: sentiments, dtype: object"
      ]
     },
     "execution_count": 247,
     "metadata": {
      "tags": []
     },
     "output_type": "execute_result"
    }
   ],
   "source": [
    "y_train=train_df.sentiments\n",
    "y_train.head()"
   ]
  },
  {
   "cell_type": "code",
   "execution_count": 248,
   "metadata": {
    "colab": {
     "base_uri": "https://localhost:8080/",
     "height": 121
    },
    "id": "Vr_MTGAFLeUq",
    "outputId": "24b1f978-f6ca-41f8-97a6-7ebbd87a59e5"
   },
   "outputs": [
    {
     "data": {
      "text/plain": [
       "23438    positive\n",
       "78749    negative\n",
       "43994    negative\n",
       "25959    positive\n",
       "20526    positive\n",
       "Name: sentiments, dtype: object"
      ]
     },
     "execution_count": 248,
     "metadata": {
      "tags": []
     },
     "output_type": "execute_result"
    }
   ],
   "source": [
    "y_test=test_df.sentiments\n",
    "y_test.head()"
   ]
  },
  {
   "cell_type": "code",
   "execution_count": 249,
   "metadata": {
    "id": "T-naRKn5F1Jw"
   },
   "outputs": [],
   "source": [
    "labelencoder = LabelEncoder()\n",
    "y_train = labelencoder.fit_transform(y_train)\n",
    "y_test=labelencoder.fit_transform(y_test)                   #LabelEncoder is used to convert the sentiments into numerical data"
   ]
  },
  {
   "cell_type": "code",
   "execution_count": 250,
   "metadata": {
    "colab": {
     "base_uri": "https://localhost:8080/",
     "height": 34
    },
    "id": "3U70AKV3F8p7",
    "outputId": "43a09e0f-5fe3-4c92-aa4a-2d3376e49c37"
   },
   "outputs": [
    {
     "data": {
      "text/plain": [
       "(64000,)"
      ]
     },
     "execution_count": 250,
     "metadata": {
      "tags": []
     },
     "output_type": "execute_result"
    }
   ],
   "source": [
    "y_train.shape"
   ]
  },
  {
   "cell_type": "code",
   "execution_count": 251,
   "metadata": {
    "colab": {
     "base_uri": "https://localhost:8080/",
     "height": 34
    },
    "id": "-4geBNtiLv4I",
    "outputId": "2beaa569-2aa7-40f7-c5c3-a6f7d5d0c539"
   },
   "outputs": [
    {
     "data": {
      "text/plain": [
       "(16000,)"
      ]
     },
     "execution_count": 251,
     "metadata": {
      "tags": []
     },
     "output_type": "execute_result"
    }
   ],
   "source": [
    "y_test.shape"
   ]
  },
  {
   "cell_type": "markdown",
   "metadata": {},
   "source": [
    "# Embedding Matrix"
   ]
  },
  {
   "cell_type": "code",
   "execution_count": 252,
   "metadata": {
    "colab": {
     "base_uri": "https://localhost:8080/",
     "height": 34
    },
    "id": "liAH6GaJL1ZP",
    "outputId": "8832baf2-46f2-4ae3-ae3c-309ec0ece8ef"
   },
   "outputs": [
    {
     "name": "stdout",
     "output_type": "stream",
     "text": [
      "(17931, 300)\n"
     ]
    }
   ],
   "source": [
    "embedding_matrix = np.zeros((vocab_size, 300))\n",
    "for word, i in tokenizer.word_index.items():\n",
    "  if word in w2v_model.wv:\n",
    "    embedding_matrix[i] = w2v_model.wv[word]\n",
    "print(embedding_matrix.shape)                               #created an embedding Matrix from word2vector for embedding layer"
   ]
  },
  {
   "cell_type": "code",
   "execution_count": 253,
   "metadata": {
    "id": "ApUhgplnMXPR"
   },
   "outputs": [],
   "source": [
    "embedding_layer = Embedding(vocab_size, 300, weights=[embedding_matrix], input_length=300, trainable=False)"
   ]
  },
  {
   "cell_type": "markdown",
   "metadata": {},
   "source": [
    "# LSTM"
   ]
  },
  {
   "cell_type": "code",
   "execution_count": 254,
   "metadata": {
    "colab": {
     "base_uri": "https://localhost:8080/",
     "height": 294
    },
    "id": "smxDsIAsMhbY",
    "outputId": "a2fa2d4a-c3cd-464c-8ea1-bdf199186789"
   },
   "outputs": [
    {
     "name": "stdout",
     "output_type": "stream",
     "text": [
      "Model: \"sequential_5\"\n",
      "_________________________________________________________________\n",
      "Layer (type)                 Output Shape              Param #   \n",
      "=================================================================\n",
      "embedding_5 (Embedding)      (None, 300, 300)          5379300   \n",
      "_________________________________________________________________\n",
      "dropout_5 (Dropout)          (None, 300, 300)          0         \n",
      "_________________________________________________________________\n",
      "lstm_5 (LSTM)                (None, 100)               160400    \n",
      "_________________________________________________________________\n",
      "dense_5 (Dense)              (None, 1)                 101       \n",
      "=================================================================\n",
      "Total params: 5,539,801\n",
      "Trainable params: 160,501\n",
      "Non-trainable params: 5,379,300\n",
      "_________________________________________________________________\n"
     ]
    }
   ],
   "source": [
    "model = Sequential()\n",
    "model.add(embedding_layer)\n",
    "model.add(Dropout(0.5))\n",
    "model.add(LSTM(100, dropout=0.2, recurrent_dropout=0.2,activation=\"sigmoid\"))       #use lstm for better result\n",
    "model.add(Dense(1, activation='sigmoid'))\n",
    "model.summary()"
   ]
  },
  {
   "cell_type": "code",
   "execution_count": 255,
   "metadata": {
    "id": "wHKhRMvbMrdy"
   },
   "outputs": [],
   "source": [
    "model.compile(loss='binary_crossentropy',\n",
    "              optimizer=\"adam\",\n",
    "              metrics=['accuracy'])"
   ]
  },
  {
   "cell_type": "code",
   "execution_count": 256,
   "metadata": {
    "colab": {
     "base_uri": "https://localhost:8080/",
     "height": 363
    },
    "id": "72qR4DvjMx-1",
    "outputId": "1c3e12fd-ab67-4426-db43-ab82b02c18dd"
   },
   "outputs": [
    {
     "name": "stdout",
     "output_type": "stream",
     "text": [
      "Epoch 1/10\n",
      "57/57 [==============================] - 713s 13s/step - loss: 0.6281 - accuracy: 0.6388 - val_loss: 0.5634 - val_accuracy: 0.7077\n",
      "Epoch 2/10\n",
      "57/57 [==============================] - 712s 12s/step - loss: 0.5689 - accuracy: 0.6990 - val_loss: 0.5239 - val_accuracy: 0.7369\n",
      "Epoch 3/10\n",
      "57/57 [==============================] - 715s 13s/step - loss: 0.5497 - accuracy: 0.7165 - val_loss: 0.5207 - val_accuracy: 0.7298\n",
      "Epoch 4/10\n",
      "57/57 [==============================] - 717s 13s/step - loss: 0.5379 - accuracy: 0.7247 - val_loss: 0.5049 - val_accuracy: 0.7517\n",
      "Epoch 5/10\n",
      "57/57 [==============================] - 714s 13s/step - loss: 0.5297 - accuracy: 0.7294 - val_loss: 0.5223 - val_accuracy: 0.7283\n",
      "Epoch 6/10\n",
      "57/57 [==============================] - 717s 13s/step - loss: 0.5270 - accuracy: 0.7319 - val_loss: 0.4910 - val_accuracy: 0.7553\n",
      "Epoch 7/10\n",
      "57/57 [==============================] - 710s 12s/step - loss: 0.5193 - accuracy: 0.7375 - val_loss: 0.4881 - val_accuracy: 0.7639\n",
      "Epoch 8/10\n",
      "57/57 [==============================] - 709s 12s/step - loss: 0.5134 - accuracy: 0.7425 - val_loss: 0.4819 - val_accuracy: 0.7639\n",
      "Epoch 9/10\n",
      "57/57 [==============================] - 709s 12s/step - loss: 0.5083 - accuracy: 0.7452 - val_loss: 0.4775 - val_accuracy: 0.7628\n",
      "Epoch 10/10\n",
      "57/57 [==============================] - 709s 12s/step - loss: 0.5037 - accuracy: 0.7484 - val_loss: 0.4819 - val_accuracy: 0.7636\n"
     ]
    }
   ],
   "source": [
    "model_history=model.fit(X_train, y_train,batch_size=1024,epochs=10,validation_split=0.1,verbose=1)"
   ]
  },
  {
   "cell_type": "markdown",
   "metadata": {},
   "source": [
    "Train the models for 10 epochs, we can increase the accuracy by increasing the number of epochs."
   ]
  },
  {
   "cell_type": "code",
   "execution_count": 257,
   "metadata": {
    "id": "xQ8IMzWYM7kW"
   },
   "outputs": [],
   "source": [
    "acc = model_history.history['accuracy']\n",
    "val_acc = model_history.history['val_accuracy']\n",
    "loss = model_history.history['loss']\n",
    "val_loss = model_history.history['val_loss']\n",
    "epochs=range(len(acc))"
   ]
  },
  {
   "cell_type": "markdown",
   "metadata": {},
   "source": [
    "# Data Visualization for the result"
   ]
  },
  {
   "cell_type": "code",
   "execution_count": 258,
   "metadata": {
    "colab": {
     "base_uri": "https://localhost:8080/",
     "height": 298
    },
    "id": "eEGsYEY7NJjP",
    "outputId": "d5d55d46-5f81-4d09-bd99-3fccfb85cdf1"
   },
   "outputs": [
    {
     "data": {
      "text/plain": [
       "Text(0.5, 1.0, 'Training and Validation Accuracy')"
      ]
     },
     "execution_count": 258,
     "metadata": {
      "tags": []
     },
     "output_type": "execute_result"
    },
    {
     "data": {
      "image/png": "[encoded data removed]",
      "text/plain": [
       "<Figure size 432x288 with 1 Axes>"
      ]
     },
     "metadata": {
      "needs_background": "light",
      "tags": []
     },
     "output_type": "display_data"
    }
   ],
   "source": [
    "plt.plot(epochs,acc,label='Trainin_acc',color='blue')\n",
    "plt.plot(epochs,val_acc,label='Validation_acc',color='red')\n",
    "plt.legend()\n",
    "plt.title(\"Training and Validation Accuracy\")"
   ]
  },
  {
   "cell_type": "code",
   "execution_count": 259,
   "metadata": {
    "colab": {
     "base_uri": "https://localhost:8080/",
     "height": 298
    },
    "id": "CI79rWkUNQJ5",
    "outputId": "d52bae0d-5543-4638-eda0-525d06b6871b"
   },
   "outputs": [
    {
     "data": {
      "text/plain": [
       "Text(0.5, 1.0, 'Training and Validation loss')"
      ]
     },
     "execution_count": 259,
     "metadata": {
      "tags": []
     },
     "output_type": "execute_result"
    },
    {
     "data": {
      "image/png": "[encoded data removed]",
      "text/plain": [
       "<Figure size 432x288 with 1 Axes>"
      ]
     },
     "metadata": {
      "needs_background": "light",
      "tags": []
     },
     "output_type": "display_data"
    }
   ],
   "source": [
    "plt.plot(epochs,loss,label='Training_loss',color='blue')\n",
    "plt.plot(epochs,val_loss,label='Validation_loss',color='red')\n",
    "plt.legend()\n",
    "plt.title(\"Training and Validation loss\")"
   ]
  },
  {
   "cell_type": "markdown",
   "metadata": {},
   "source": [
    "losses will not converged yet ,so we can increase the no of epoch to get better result"
   ]
  },
  {
   "cell_type": "code",
   "execution_count": 348,
   "metadata": {
    "colab": {
     "base_uri": "https://localhost:8080/",
     "height": 52
    },
    "id": "ETJE3wbLFA31",
    "outputId": "7463f659-2be1-4a63-894e-a24bafdeb7cc"
   },
   "outputs": [
    {
     "name": "stdout",
     "output_type": "stream",
     "text": [
      "500/500 [==============================] - 64s 127ms/step - loss: 0.4803 - accuracy: 0.7707\n"
     ]
    },
    {
     "data": {
      "text/plain": [
       "[0.48028406500816345, 0.7707499861717224]"
      ]
     },
     "execution_count": 348,
     "metadata": {
      "tags": []
     },
     "output_type": "execute_result"
    }
   ],
   "source": [
    "model.evaluate(X_test, y_test)           #testing the model on test data"
   ]
  },
  {
   "cell_type": "markdown",
   "metadata": {},
   "source": [
    "# For User Input Data"
   ]
  },
  {
   "cell_type": "markdown",
   "metadata": {},
   "source": [
    "All the preprocessing as done earlier"
   ]
  },
  {
   "cell_type": "code",
   "execution_count": 307,
   "metadata": {
    "id": "6hVmpJSGP7wA"
   },
   "outputs": [],
   "source": [
    "def preprocess(text):\n",
    "    review=re.sub('@\\S+|https?:\\S+|http?:\\S|[^A-Za-z0-9]+',' ',text)\n",
    "    review=review.lower()\n",
    "    review=review.split()\n",
    "    review=[word for word in review if not word in stop_words]\n",
    "    review=[stemmer.stem(word) for word in review]\n",
    "    print(review)\n",
    "    review=pad_sequences(tokenizer.texts_to_sequences([review]), maxlen=300)      \n",
    "    return review"
   ]
  },
  {
   "cell_type": "markdown",
   "metadata": {},
   "source": [
    "### prediction"
   ]
  },
  {
   "cell_type": "code",
   "execution_count": 308,
   "metadata": {
    "id": "-Sqb2je3j3gS"
   },
   "outputs": [],
   "source": [
    "def prediction(review):\n",
    "    review=preprocess(review)\n",
    "    score=model.predict(review)\n",
    "    score=score[0]\n",
    "    if score<=0.5:\n",
    "        print(\"Negative\")\n",
    "    else:\n",
    "        print(\"Positive\")\n",
    "    print(score)"
   ]
  },
  {
   "cell_type": "code",
   "execution_count": 313,
   "metadata": {
    "colab": {
     "base_uri": "https://localhost:8080/",
     "height": 69
    },
    "id": "qIlnBo93LWAI",
    "outputId": "1b9dcb85-f63a-432a-9187-e10d6a21df51"
   },
   "outputs": [
    {
     "name": "stdout",
     "output_type": "stream",
     "text": [
      "['food', 'good']\n",
      "Positive\n",
      "[0.868377]\n"
     ]
    }
   ],
   "source": [
    "prediction(\"food is good\")"
   ]
  },
  {
   "cell_type": "code",
   "execution_count": 314,
   "metadata": {
    "colab": {
     "base_uri": "https://localhost:8080/",
     "height": 69
    },
    "id": "ljYwzW3ijFPV",
    "outputId": "f4d54894-80f1-4037-aac4-bf844fb64a96"
   },
   "outputs": [
    {
     "name": "stdout",
     "output_type": "stream",
     "text": [
      "['cheapest', 'product']\n",
      "Negative\n",
      "[0.27350035]\n"
     ]
    }
   ],
   "source": [
    "prediction(\"cheapest product\")"
   ]
  },
  {
   "cell_type": "code",
   "execution_count": 315,
   "metadata": {
    "colab": {
     "base_uri": "https://localhost:8080/",
     "height": 69
    },
    "id": "72PRYQHVLaI5",
    "outputId": "88f615c5-fbd2-4ea8-8cce-4b6d29e48504"
   },
   "outputs": [
    {
     "name": "stdout",
     "output_type": "stream",
     "text": [
      "['worst', 'movi']\n",
      "Negative\n",
      "[0.2505594]\n"
     ]
    }
   ],
   "source": [
    "prediction(\"worst movie\")"
   ]
  },
  {
   "cell_type": "code",
   "execution_count": 339,
   "metadata": {
    "id": "h8_Rx78CN-_T"
   },
   "outputs": [],
   "source": [
    "def prediction1(review):\n",
    "    review=preprocess(review)\n",
    "    score=model.predict(review)\n",
    "    score=score[0]\n",
    "    if score<=0.2:\n",
    "        return \"Very Negative\"\n",
    "    elif score>0.2 and score<=0.4:\n",
    "        return \"Negative\"\n",
    "    elif score>0.4 and score<=0.6:\n",
    "        return \"Neutral\"\n",
    "    elif score>0.6 and score<=0.8:\n",
    "        return \"Positive\"\n",
    "    else:\n",
    "        return \"Positive\""
   ]
  },
  {
   "cell_type": "markdown",
   "metadata": {},
   "source": [
    "## Taking Amazon reviews for prediction"
   ]
  },
  {
   "cell_type": "code",
   "execution_count": 340,
   "metadata": {
    "id": "AwKIgUwRLir3"
   },
   "outputs": [],
   "source": [
    "Amazon_reviews = pd.read_csv(\"reviews.csv\")"
   ]
  },
  {
   "cell_type": "code",
   "execution_count": 341,
   "metadata": {
    "colab": {
     "base_uri": "https://localhost:8080/",
     "height": 198
    },
    "id": "UG183WFbMiji",
    "outputId": "9092d5fd-860f-4530-a315-d513f9edcb0a"
   },
   "outputs": [
    {
     "data": {
      "text/html": [
       "<div>\n",
       "<style scoped>\n",
       "    .dataframe tbody tr th:only-of-type {\n",
       "        vertical-align: middle;\n",
       "    }\n",
       "\n",
       "    .dataframe tbody tr th {\n",
       "        vertical-align: top;\n",
       "    }\n",
       "\n",
       "    .dataframe thead th {\n",
       "        text-align: right;\n",
       "    }\n",
       "</style>\n",
       "<table border=\"1\" class=\"dataframe\">\n",
       "  <thead>\n",
       "    <tr style=\"text-align: right;\">\n",
       "      <th></th>\n",
       "      <th>Unnamed: 0</th>\n",
       "      <th>Cust_name</th>\n",
       "      <th>Mob_name</th>\n",
       "      <th>reviews</th>\n",
       "    </tr>\n",
       "  </thead>\n",
       "  <tbody>\n",
       "    <tr>\n",
       "      <th>0</th>\n",
       "      <td>0</td>\n",
       "      <td>Akash peelwa</td>\n",
       "      <td>Redmi Note 9 Pro</td>\n",
       "      <td>PLZZ read this complete information before buy...</td>\n",
       "    </tr>\n",
       "    <tr>\n",
       "      <th>1</th>\n",
       "      <td>1</td>\n",
       "      <td>manish</td>\n",
       "      <td>Redmi Note 9 Pro</td>\n",
       "      <td>good batter backupgood cameragood mob designno...</td>\n",
       "    </tr>\n",
       "    <tr>\n",
       "      <th>2</th>\n",
       "      <td>2</td>\n",
       "      <td>Sayantan Dey</td>\n",
       "      <td>Redmi Note 9 Pro</td>\n",
       "      <td>Nice product in this price... Good quality and...</td>\n",
       "    </tr>\n",
       "    <tr>\n",
       "      <th>3</th>\n",
       "      <td>3</td>\n",
       "      <td>Janvhi J.</td>\n",
       "      <td>Redmi Note 9 Pro</td>\n",
       "      <td>Hi all,As I have bought redmi note 9 pro on fi...</td>\n",
       "    </tr>\n",
       "    <tr>\n",
       "      <th>4</th>\n",
       "      <td>4</td>\n",
       "      <td>VINOD SOMVANSHI</td>\n",
       "      <td>Redmi Note 9 Pro</td>\n",
       "      <td>Don't go for this mobile as I face issue with ...</td>\n",
       "    </tr>\n",
       "  </tbody>\n",
       "</table>\n",
       "</div>"
      ],
      "text/plain": [
       "   Unnamed: 0  ...                                            reviews\n",
       "0           0  ...  PLZZ read this complete information before buy...\n",
       "1           1  ...  good batter backupgood cameragood mob designno...\n",
       "2           2  ...  Nice product in this price... Good quality and...\n",
       "3           3  ...  Hi all,As I have bought redmi note 9 pro on fi...\n",
       "4           4  ...  Don't go for this mobile as I face issue with ...\n",
       "\n",
       "[5 rows x 4 columns]"
      ]
     },
     "execution_count": 341,
     "metadata": {
      "tags": []
     },
     "output_type": "execute_result"
    }
   ],
   "source": [
    "Amazon_reviews.head()"
   ]
  },
  {
   "cell_type": "code",
   "execution_count": 342,
   "metadata": {
    "colab": {
     "base_uri": "https://localhost:8080/",
     "height": 1000
    },
    "id": "fRAickNzMpKG",
    "outputId": "a9f21446-88ed-4ecb-d8c1-99fd2eebf77d"
   },
   "outputs": [
    {
     "name": "stdout",
     "output_type": "stream",
     "text": [
      "['plzz', 'read', 'complet', 'inform', 'buy', 'amazonthey', 'not', 'refund', 'product', 'got', 'defect', 'amazon', 'worst', 'provid', 'servic', 'option', 'buy', 'flipkart', 'go', 'wast', 'time', 'amazonregard', 'mobileworst', 'mobil', 'ever', 'seenbatteri', 'charg', 'time', 'expect', 'batteri', 'draina', 'problem', 'therecamera', 'stuck', 'click', 'pictur', 'poor', 'camera', 'qualiti', 'said', '48', 'mp', 'like', '12mp', 'game', 'lover', 'plzz', 'tri', 'anoth', 'mobil', 'perform', 'low', 'told', 'amazon', 'custom', 'care', 'take', 'product', 'back', 'not', 'help', 'instead', 'want', 'go', 'servic', 'center', 'covid19', 'situat', 'red', 'zone', 'provid', 'home', 'visit', 'technician', 'life', 'import', 'custom', 'custom', 'get', 'infect', 'ok', 'thank', 'amazon', 'servic', 'hate', 'amazon', 'tiktok', 'unistal', 'app', 'right', 'also', 'recommend', 'friend', 'relat', 'not', 'buy', 'anyth', 'amazon', 'worst']\n",
      "['good', 'batter', 'backupgood', 'cameragood', 'mob', 'designno', 'issu']\n",
      "['nice', 'product', 'price', 'good', 'qualiti', 'look', 'aswm', 'punch', 'hole', 'camera', 'display', 'attract', 'camera', 'also', 'perfect', 'batteri', 'capac', 'high', 'phone', 'doubt', 'much', 'good']\n",
      "['hi', 'bought', 'redmi', 'note', '9', 'pro', 'first', 'sale', 'would', 'like', 'share', 'review', 'would', 'give', 'honest', 'experi', 'talk', 'lacuna', 'con', 'phone', '1', 'batteri', 'last', '24', 'hrs', 'general', 'use', 'like', 'phone', 'call', 'youtub', 'whatsup', 'video', 'call', 'without', 'game', 'game', 'batteri', 'drain', 'fast', 'charg', 'take', '2', 'hrs', '2', 'camera', '48', 'mp', 'person', 'not', 'find', 'anyth', 'like', '48', 'mp', 'rather', 'samsung', 'm30', 'better', 'qualiti', 'pic', '48', 'mp', 'night', 'mode', 'not', 'good', 'enough', 'hipe', 'clariti', 'compromis', 'even', 'front', 'camera', 'not', 'good', 'pic', 'get', 'blurr', 'zoom', 'samsung', 'm30', 'gain', 'camera', 'not', 'good', 'told', 'blur', 'shaggi', 'imag', 'realli', 'disappoint', '3', 'display', 'kind', 'go', 'super', 'amol', 'display', 'compar', 'fhd', 'redmi', 'note', '9', 'pro', 'samol', 'samsung', 'realli', 'feel', 'differ', '4', 'game', 'heat', 'problem', 'batteri', 'drain', 'fast', '5', 'weight', 'someth', 'feel', 'heavi', 'hard', 'use', 'singl', 'hand', '6', 'sound', 'averag', 'honest', 'feedback', 'use', '4', 'day', 'realli', 'feel', 'disappoint', 'batteri', 'camera', 'display', 'sound', 'thing', 'like', 'processor', 'interfac', 'speed', 'design', 'finger', 'print', 'sensor', 'best', 'thank']\n",
      "['go', 'mobil', 'face', 'issu', 'network', 'signal', '2day', 'tri', 'call', 'custom', 'care', 'amazon', 'said', 'issu', 'sim', 'card', 'ask', 'sim', 'card', 'custom', 'care', 'said', 'new', 'updat', 'sim', 'card', 'issu', 'sim', 'card', 'differ', 'network', 'sim', 'issu', 'time', 'everi', 'time', 'costom', 'care', 'give', 'reason', 'yes', 'mobil', 'feel', 'issu', 'network', 'gone', 'hour', 'also', 'hang', 'game', 'use', '6gb', 'ram', 'good', 'processor']\n",
      "['beauti', 'beast', 'combin', 'snapdragon']\n",
      "['poor', 'camera', 'qualiti', 'breadth', 'wide', 'grip', 'well']\n",
      "['phone', 'look', 'good', 'premium', 'notic', 'lag', 'camera', 'isnt', 'good', 'face', 'hardwar', 'issu', 'well', 'call', 'person', 'hear', 'voic']\n",
      "['super', 'camera', 'batteri', 'sound', 'amaz', 'much']\n",
      "['camera', 'protrait', 'mode', 'not', 'good', '48', 'mp', 'cam', 'goodscreen', 'protector', 'pre', 'appli', 'bad', 'qualiti', 'patch', 'screen', 'interstellar', 'black', 'colour', 'awsmetouch', 'also', 'not', 'good', 'need', 'amol', 'displi', 'refresh', 'rate', 'low', 'around', 'upto', '30', 'hzside', 'mount', 'fingerprint', 'sensor', 'realli', 'faster18w', 'fast', 'charger', '47', '100', 'battari', 'charg', 'time', '1', 'hr', '21', 'minwast', 'money']\n",
      "['febula', 'perform', 'redmi', 'note', '8', 'love', 'first', 'time', 'parchas', 'onlin', 'amazon', 'give', 'full', 'satisfact', 'product', 'thank', 'amazon']\n",
      "['phone', 'hang', 'mani', 'time', 'return', 'replac', 'not', 'get', 'back', 'yet', 'amazon', 'ship', 'replac', 'servic', 'bad', 'upload', 'video']\n",
      "['love', 'phone', 'purchas', 'bank', 'discount', '6gb', '128gb', 'blue', 'variant', 'must', 'say', 'look', 'super', 'awesom', 'gorilla', 'glass', 'protect', 'front', 'back', 'make', 'even', 'better', 'camera', 'realli', 'cool', 'get', 'decent', 'click', 'instal', 'googl', 'camera', 'qualiti', 'much', 'much', 'betterbatteri', 'backup', 'quit', 'good', 'well', 'turn', 'dual', '4g', 'dont', 'use', 'volt', 'not', 'necessari', 'turn', 'auto', 'start', 'app', 'u', 'feel', 'not', 'requir', 'keep', 'miui', 'batteri', 'saver', 'turn', 'better', 'backup', 'keep', 'gps', 'not', 'need', 'small', 'adjust', 'batteri', 'sure', 'last', 'longerperform', 'also', 'great', 'consid', 'chipset', 'get', 'infact', 'u', 'also', 'get', '4g', 'not', 'even', 'redmi', 'note', '7', 'pro', 'would', 'never', 'come', 'also', 'internet', 'speed', 'call', 'qualiti', 'signal', 'strength', 'everyth', 'impressivei', 'must', 'say', 'price', 'rang', 'phone', 'total', 'deserv', 'prais', 'hope', 'tri', 'cover', 'point', 'help', 'peopl', 'look', 'phone', 'good', 'option', 'best']\n",
      "['best', 'mobil', '10000']\n",
      "['pros', 'batterycamerapricelookcon', 'delic', 'handl', 'care', 'took', '10', 'day', 'product', 'reach']\n",
      "['excel', 'phone', '10', '000', 'speciali', '18', 'watt', 'fast', 'charger', 'budget', '10k', 'u', 'must', 'buy', 'without', 'doubt']\n",
      "['redmi', 'note', '8', 'best', 'smartphon', '10k', 'year', '2019']\n",
      "['awesom', 'mobil', '10k']\n",
      "['excel', 'phone', 'price', 'point']\n",
      "['redmi', 'promin', 'smartphon', 'brand', 'given', 'qualiti', 'product', 'pocket', 'friend', 'price', 'rang', 'lot', 'expect', 'xiaomi', 'use', 'almost', '4', 'smartphon', 'last', '2', 'year', 'trueli', 'disappoint', 'note', '8', 'use', 'complex', 'word', 'would', 'like', 'make', 'review', 'simpl', 'point', 'negat', 'thing', 'redmi', 'note', '8', '1', 'batteri', 'drain', 'fast', 'use', 'wifi', 'low', 'signal', 'area', 'cours', 'game', 'like', 'pubg', 'cod', 'need', 'recharg', '6', '8', 'hour', '18w', 'fast', 'charg', 'help', 'charg', 'quick', 'solv', 'entir', 'problem', '2', 'disabl', 'pre', 'instal', 'app', 'lot', 'annoy', 'ad', 'give', 'phone', 'someon', 'new', 'android', 'smartphon', 'eg', 'parent', 'unnecessari', 'ad', 'need', 'care', 'handl', '4', 'flashlight', 'poor', 'note', '5', 'pro', 'a3', 'note', '8', 'pro', 'better', 'flash', '5', 'unnecessarili', 'forc', 'use', 'locat', 'app', 'annoy', 'mi', 'much', 'interest', 'locat', '6', 'quad', 'camera', 'work', 'fine', 'zoom', 'make', 'much', 'differ', 'good', 'normal', 'use', 'justifi', 'price', 'segment', '7', 'everyon', 'tri', 'make', 'ui', 'design', 'simpl', 'oper', 'xiaomi', 'miui', 'disgust', 'difficult', 'oper', '8', 'app', 'crash', 'hope', 'consid', 'upcom', 'updat', '9', 'heat', 'issu', 'charg', 'phone', 'use', 'even', '30', 'minut', 'overal', 'nice', 'phone', 'averag', 'use', 'amaz', 'call', 'featur', 'think', 'surviv', 'high', 'end', 'requir', 'awar', 'not']\n",
      "['lengthi', 'brutal', 'honest', 'review', 'worth', 'read', 'plan', 'purchas', 'devic', 'design', 'specialist', 'profess', 'also', 'mobil', 'photographi', 'henc', 'hook', 'use', 'pixel', '2xl', 'phone', 'worthi', 'upgrad', 'transit', 'galaxi', 's9', 'pixel', '1', '2', 'seri', 'oneplus', '6', '6t', 'iphon', 'x', '7', 'oneplus', '7t', 'pro', 'increment', 'upgrad', 'predecessor', 'oneplus', '7', 'pro', 'improv', '7', 'pro', 'faster', 'processor', 'snapdragon', '855', 'plus', 'adreno', '640', 'better', 'game', 'perform', 'better', 'haptic', 'motor', '7t', 'fast', 'charg', 'warp', '30t', 'technolog', 'brighter', 'nit', 'upto', '1000', 'compar', '800', '7', 'pro', 'super', 'macro', 'mode', 'night', 'read', 'mode', 'android', '10', 'box', 'better', 'nightscap', '2', '0', 'softwar', 'updat', 'eventu', 'updat', '7', 'pro', 'well', 'box', 'oneplus', '7t', 'pro', 'devic', 'user', 'manual', 'transpar', 'silicon', 'case', 'sim', 'ejector', 'tool', 'warp', '30t', 'charg', 'brick', 'type', 'c', 'usb', 'cabl', 'cool', 'oneplus', 'sticker', 'display', 'first', 'oneplus', '7t', 'pro', 'stun', 'display', 'predecessor', 'person', 'not', 'fan', 'notch', 'click', 'lot', 'selfi', 'prefer', 'oneplus', '7t', 'pro', 'fluid', 'display', 'feel', 'luxuri', '7t', 'margin', 'bigger', 'hold', 'well', 'would', 'recommend', 'use', 'case', 'edg', 'feel', 'slipperi', 'howev', 'also', 'note', 'differ', 'light', 'condit', '7t', 'pro', 'glare', 'curv', 'due', 'rounder', 'corner', 'believ', 'neglig', '90hz', 'smoooooth', 'would', 'never', 'want', 'get', 'back', '60hz', 'use', 'perform', 'snapdragon', '855', 'plus', 'one', 'best', 'cpus', 'time', 'write', 'review', 'adrena', '640', 'take', 'game', 'multi', 'task', 'anoth', 'leagu', 'cod', 'pub', 'g', 'juic', 'best', '60fps', 'inde', 'smooth', 'imagin', '855', 'plus', 'par', 'a13', 'bionic', 'appl', 'experienc', 'drop', 'frame', 'ram', 'manag', 'splendid', '8gb', 'ram', 'recommend', 'unless', 'want', 'get', '12', 'gig', 'mclaren', 'edit', 'save', 'second', 'everyday', 'camera', 'honest', 'admit', 'not', 'best', 'expect', 'leap', 'predecessor', 'still', 'use', 'soni', 'imx', '586', '48', 'mp', 'main', 'sensor', 'telephoto', '2', '2x', 'optic', '3x', 'lossless', 'par', 'iphon', 'compar', 'gcam', 'mod', 'oneplus', 'camera', 'seem', 'improv', 'lot', 'previous', 'version', 'wide', 'angl', 'fair', 'okayish', 'distort', 'present', 'edg', 'nightscap', 'avail', 'wide', 'angl', 'shot', 'video', 'video', 'record', 'bit', 'disappoint', 'hear', 'best', 'still', 'take', 'averag', 'video', 'without', 'much', 'shake', 'util', 'oi', 'ei', '1080p', 'oi', '4k', '60fps', 'still', 'shoot', '4k', 'wide', 'angl', 'appl', 'iphon', '11', 'take', 'lead', 'oi', 'ei', 'combin', 'togeth', 'lot', 'warp', 'roll', 'shutter', 'turn', 'video', 'produc', 'still', 'not', 'altern', 'gimbal', 'video', 'look', 'oversatur', 'fix', 'shoot', 'third', 'parti', 'app', 'like', 'filmic', 'pro', 'softwar', 'one', 'biggest', 'featur', 'switch', 'oneplus', 'stock', 'android', 'butter', 'smooth', 'miss', 'lot', 'simpl', 'gestur', 'like', 'longer', 'screenshot', 'silenc', 'button', 'custom', 'navig', 'element', 'much', 'lack', 'stock', 'os', 'googl', 'would', 'say', 'oxygen', 'os', 'set', 'benchmark', 'googl', 'includ', 'increment', 'featur', 'upcom', 'flagship', 'oxygen', 'os', 'present', 'best', 'os', 'experi', 'android', 'batteri', 'warp', 't30', 'super', 'fast', 'help', 'charg', '0', '100', 'lesser', 'time', 'episod', 'netflix', 'although', 'not', 'fastest', 'charger', 'industri', 'still', 'get', 'day', 'heavi', 'usag', 'could', 'improv', 'minor', 'improv', 'camera', 'tof', 'sensor', 'wireless', 'charg', 'ip', 'rate', 'better', 'silicon', 'case', 'includ', 'futur', 'upgrad', 'verdict', 'doubt', 'asus', 'fan', 'would', 'recommend', 'rog', '2', 'rog', '2', 'hand', 'best', 'game', 'phone', '120', 'hz', 'display', 'lack', 'major', 'aspect', 'like', 'softwar', 'updat', 'telephoto', 'camera', 'splash', 'proof', 'build', 'qualiti', 'secur', 'patch', 'essenti', 'busi', 'profession', 'regular', 'consum', 'asus', 'also', 'not', 'known', 'provid', 'regular', 'updat', 'consum', 'oneplus', 'close', 'knit', 'communiti', 'among', 'develop', 'brand', 'valu', 'asus', 'nevertheless', 'mention', 'oneplus', '7t', 'pro', 'feel', 'premium', 'box', 'plan', 'upgrad', 'devic', 'almost', '2', 'year', 'old', 'would', 'best', 'upgrad', 'case', 'requir', 'phone', 'notch', 'curv', 'screen', '7t', 'pro', 'feel', 'slipperi', 'compar', '7t', 'wish', 'made', 'smaller', 'devic', 'otherwis', 'would', 'still', 'recommend', '7t', 'best', 'bang', 'buck', 'still', 'wish', 'cannot', 'afford', 'extra', 'rupe', 'increment', 'updat', 'fast', 'charg', '855', 'plus', 'suggest', 'would', 'go', 'oneplus', '7', 'pro', 'still', 'one', 'best', 'devic']\n",
      "['think', 'first', 'one', 'write', 'review', 'beauti', 'order', '11', 'pm', 'night', 'hand', 'morn', '9', 'use', 'iphon', 'x', 'samsung', 's9', 'plus', 'samsung', 's10', 'plus', 'come', 'one', 'plus', '7t', 'experi', 'far', '1', 'display', 'amaz', 'sharp', 'bright', '90hz', 'display', 'make', 'one', 'beauti', 'display', '2', 'camera', 'previous', 'mobil', 'great', 'camera', '7t', 'pro', 'noth', 'less', 'profession', 'photograph', 'might', 'find', 'differ', 'normal', 'user', 'perfect', '3', 'batteri', 'get', 'good', 'batteri', 'backup', 'go', 'bed', '30', '30t', 'warp', 'charger', 'booom', '4', 'perform', 'blaze', 'lightn', 'fast', '5', 'one', 'usp', 'oneplus', 'mobil', 'oxygen', 'os', 'use', 'iphon', 'samsung', 'one', 'ui', 'tell', 'best', 'lot', 'gestur', 'shortcut', 'lightweight', 'con', 'think', 'weight', 'heavier', 'side', 'use', 'day', 'get', 'use', 'go', 'guy', 'regret']\n",
      "['fastest', 'phone', 'ever', 'experienc', 'hiccup', 'none', 'ever', 'overal', 'smooth', 'experi', 'switch', 'app', 'regular', 'function', 'display', 'die', 'magnific', 'macro', 'mode', 'night', 'mode', 'camera', 'noth', 'wrong', 'overal', 'overwhelm', 'experi', 'call', 'duti', 'run', 'flawless', 'phone', 'fast', 'take', 'get', 'use', 'charg', 'speed', 'advertis', 'complaint']\n",
      "['hi', 'open', 'await', 'phone', 'saw', '2', 'major', 'draw', 'back1st', 'camera', 'qualiti', 'dear', 'one', 'plus', 'maker', 'paid', '54000', '00', '53999', '00', 'compromis', 'today', 'main', 'featur', 'camera', 'zoom', 'qualiti', 'poor', 'pic', 'rip', 'zoom', 'shot', 'see', 'captur', 'imag', 'zoom', 'night', 'photographi', 'shot', 'also', 'poorin', 'night', 'pictur', 'saw', 'lot', 'dot', 'rip', 'imag', 'not', 'captur', 'origin', 'color', 'lot', 'issu', 'camera', 'qualiti', 'think', 'user', 'give', 'best', 'qualiti', 'hope', 'one', 'plus', 'team', 'look', 'work', 'solv', 'issu', 'next', 'softwar', 'updat', 'dear', 'amazon', 'team', 'pass', 'feedback', 'one', 'plus', 'team']\n",
      "['amaz', 'phone', 'unbeliev', 'smooth', 'vivid', 'display', 'use', 'oneplus', '5t', 'big', 'fan', 'oneplus', 'camera', 'os', 'alway', 'felt', 'oneplus', 'display', 'good', 'enough', 'mobil', 'kill', 'thought', 'highlight', '1', 'butteri', 'smooth', 'fast', 'bright', 'display', 'edg', 'display', 'wowwww', 'stop', 'admir', '2', 'excel', 'camera', 'pictur', 'come', 'well', 'kind', 'light', 'mode', 'portrait', 'new', 'zoom', 'mode', 'portrait', 'wow', 'look', 'exact', 'like', 'dslr', 'click', 'macro', 'love', 'take', 'closeup', 'shot', 'flower', 'pattern', 'get', 'close', '2', '5', 'cms', 'click', 'amaz', 'shot', 'nightscap', 'area', 'huge', 'upgrad', 'compar', 'oneplus', '5t', 'get', 'crisp', 'clear', 'pictur', 'without', 'nois', 'pictur', 'mark', 'pixel', 'mobil', 'popup', 'camera', 'hesit', 'doubt', 'popup', 'camera', 'tell', 'noth', 'worri', 'soo', 'smooth', 'quick', 'never', 'notic', 'hardwar', 'control', 'camera', 'selfi', 'never', 'better', 'bright', 'sharp', 'shot', 'anytim', 'video', 'realli', 'use', 'much', 'updat', 'later3', 'dolbi', 'speaker', 'excel', 'sound', 'qualiti', 'awesom', 'stereo', 'effect', 'huge', 'upgrad', 'older', 'model', '4', '90', 'hz', 'refresh', 'rate', 'yes', 'one', 'give', 'total', 'differ', 'experi', 'use', 'mobil', 'clear', 'faster', 'better', 'usual', '60hz', 'display', '5', 'build', 'design', 'perfect', 'sleek', 'stylish', 'neat', 'love', 'camera', 'setup', 'oneplus', '7t', 'hate', 'circular', 'bump', 'total', 'love', 'edg', 'display', 'oneplus', '7', 'pro', 'devic', 'perfect', 'combin', 'best', 'featur', '7t', '7pro', 'not', 'unwant', 'model', 'like', 'everyon', 'claim', '6', 'batter', 'charg', 'charg', 'blaze', 'fast', 'batteri', 'easili', 'last', 'whole', 'day', 'even', '90hz', 'refresh', 'rate']\n",
      "['one', 'best', 'oneplus', 'phone', 'ever', 'superb', 'amazon', 'one', 'plus', '7t', 'pro', 'far', 'better', 'iphon', '11']\n",
      "['realli', 'happi', 'phone', 'switch', 'appl', 'android', 'phone', 'realli', 'big', 'lot', 'power', 'problem', 'play', 'game', 'like', 'silk', 'smooth', 'game', 'navig', 'app', 'super', 'fast', 'updat', 'done', 'softwar', 'app', 'love', 'butaft', '2', 'day', 'normal', 'usag', 'random', 'navig', 'devic', 'devic', 'start', 'reboot', 'shock', 'thought', 'mayb', 'reboot', 'ok', 'reboot', '3', 'hour', 'continu', 'without', 'stop', 'till', 'whole', 'batteri', 'got', 'drain', 'not', 'abl', 'perform', 'action', 'made', 'handicap', '3', 'hour', 'cannot', 'anyth', 'check', 'videofin', 'return', 'long', 'convers', 'amazon', 'support', 'oneplus', 'team', 'buy', 'risk']\n",
      "['bought', 'one', 'plus', '7t', 'pro', 'last', 'tuesday', 'e', '22', '10', '19', 'one', 'week', 'start', 'softwar', 'hardwar', 'problem', 'phone', 'not', 'work', 'well', 'heat', 'problem', 'also', 'mobil', 'call', 'custom', 'care', 'execut', 'not', 'treat', 'well', 'wast', 'money', 'product', 'pleas', 'buy', 'seller']\n",
      "['phone', 'great', 'everyth', 'good', 'one', 'doubt', 'got', 'acko', 'screen', 'protect', '1', 'year', 'amazon', 'mention', 'acko', 'screen', 'protect', 'offer', 'anyon', 'got']\n",
      "['3', '5', 'headphon', 'jack', 'phone', 'thicker', '3', '5', 'plenti', 'space', '3', '5', 'c', 'adapt', 'provid', 'box', 'never', 'settl', 'offici', 'adapt', 'sold', 'amazon', 'either', 'get', 'regist', 'websit', 'display', 'seem', 'bit', 'yellow', 'tint', 'although', 'fast', 'not', 'realli', 'see', 'call', 'magic', '90hz', 'display', 'overhyp', 'curv', 'edg', 'make', 'read', 'bit', 'weird', 'line', 'go', 'left', 'curv', 'left', 'flat', 'middl', 'go', 'right', 'curv', 'right', 'wish', 'os', 'provid', 'margin', 'edg', 'need']\n",
      "['receiv', 'defect', 'iphon', '7', '32gb', 'silver', 'colour', 'great', 'indian', 'festiv', 'sale', '2018', 'amazon', 'deliv', 'product', 'day', 'product', 'seem', 'non', 'function', 'rear', 'camera', 'get', 'freez', 'due', 'faulti', 'camera', 'sensor', 'save', 'time', 'money', 'bought', 'amazon', 'onlin', 'e', 'store', 'amazon', 'repres', 'ask', 'visit', 'appl', 'servic', 'store', 'far', 'wast', 'precious', 'time', 'mind', 'phone', 'sold', 'sold', 'appario', 'retail', 'privat', 'ltd', 'realli', 'fed', 'till', 'expect', 'amazon', 'quick', 'action']\n",
      "['redmi', 'phone', 'camera', 'great', 'cours', 'iphon', 'better', '6', 'redmi', 'phone', 'get', '1', 'iphon', 'justifi', 'differ', 'price', 'well', 'absolut', 'yes', 'iphon', 'camera', 'not', 'better', 'much', 'better', 'compar', 'like', 'compar', 'alto', 'bmw', 'yes', '4', 'wheel', 'ac', 'run', '100', 'kmph', 'know', 'differ', 'high', 'price', 'iphon', 'justifi', 'sheer', 'brillianc', 'camera', 'sure', '12', 'mp', 'clariti', 'sure', 'batteri', '2600', 'compar', '3500', 'redmi', 'last', 'longer', 'redmi', 'know', 'compar', 'low', 'budget', 'phone', 'premium', 'one', 'mani', 'peopl', 'one', 'not', 'abl', 'see', 'reason', 'behind', 'steep', 'price', 'iphon', 'use', 'macbook', '10', 'year', 'sinc', 'work', 'depend', 'need', 'phone', 'not', 'necess', 'like', 'laptop', 'call', 'take', 'pic', 'occasion', 'slr', 'photographi', 'wrong', 'iphon', 'iphon', 'use', 'turn', 'back', 'last', 'iphon', '4s', 'sinc', 'love', 'buy', 'phone', 'everi', '6', 'month', 'shift', 'android', 'redmi', 'samsung', 'honor', 'satiat', 'hunger', 'new', 'phone', 'phone', 'superb', 'doubt', 'use', 'iphon', '7', 'know', 'differ', 'phone', 'iphon', '6s', 'got', 'much', 'bigger', 'camera', 'featur', 'like', 'airdrop', '100', 'pic', 'transfer', 'phone', 'macbook', 'within', '4', '5', 'second', 'good', 'use', 'iphon', 'macbook', 'bottom', 'line', 'iphon', '7', 'jump', 'big', 'leap', '6s', '8', 'almost', 'similar', 'x', 'doubl', 'price', '7', 'probabl', 'thing', 'taken', 'account', 'iphon', '7', 'best', 'valu', 'money', 'among', 'phone', 'india']\n",
      "['thank', 'amazon', 'servic', 'phone', 'nice', 'cool', 'also', 'display', 'cool', 'sound', 'clariti', 'excel', 'phone', 'slim', 'processor', 'fast', 'nice', 'perform', 'game', 'compar', 'phone', 'superb']\n",
      "['phone', 'not', 'work', 'sinc', 'arriv', 'complain', 'done', 'atlest', '10', 'time', 'custom', 'care', 'posit', 'respons', 'think', 'wast', 'mine', '38k', 'amazon', 'brand', 'still', 'respons', 'even', 'constinusli', 'say', 'cant', 'anyth', 'situat', 'dissapoinetd', 'time']\n",
      "['appl', 'fan', 'true', 'beauti', 'go']\n",
      "['first', 'one', 'would', 'want', 'know', 'product', 'genuin', 'not', 'refurbish', 'coz', 'amazon', 'big', 'sale', 'got', '35k', 'unbox', 'check', 'appl', 'websit', 'onlin', 'check', 'serial', 'emei', 'detailsand', '100', 'genuin', 'new', 'handset', 'phone', 'work', 'greatdeliveri', 'also', 'quick', '03', 'day']\n",
      "['good', 'spec', 'handl', 'updat', 'next', '4', 'yrs', 'good', 'phone', 'peopl', 'use', 'power', 'hungri', 'app', 'long', 'durat', 'camera', 'definit', 'upto', 'mark']\n",
      "['iphone7', 'hear', 'problem']\n",
      "['exact', 'one', 'year', '1', 'week', 'ear', 'piec', 'ddnt', 'work', 'went', 'store', 'ask', '35k', 'replac', 'useless', 'phone', 'premium', 'price', 'tag', '55', '60k', 'phone', 'dont', 'even', 'work', '1', 'year', '5s', '6', 'plus', '7', 'type', 'problem', 'phone', 'went', 'troubl', 'exact', 'warranti', 'useless', 'big', 'compani', 'take', 'india', 'indian', 'ride', 'would', 'never', 'buy', 'appl', 'product', 'sure']\n",
      "['come', 'oneplus', '3', 'phone', 'great', 'upgrad', 'alway', 'want', 'know', 'io', 'popular', 'well', 'never', 'disappoint', 'write', 'review', 'one', 'year', 'purchas', 'work', 'like', 'charm', 'still', 'feel', 'need', 'upgrad', 'devic', 'iphon', '8', 'x', 'xs', 'work', 'flawless', 'without', 'lag', 'delay', 'whatsoev', 'camera', 'great', 'problem', 'batteri', 'life', 'enough', 'complet', 'day']\n",
      "['super', 'vivo', 'v17']\n",
      "['generic', 'user', 'main', 'use', 'phone', 'call', 'click', 'pic', 'watch', 'movi', 'app', 'like', 'whatsapp', 'twitter', 'travel', 'book', 'mail', 'meet', 'receiv', 'phone', 'today', 'first', 'impress', 'phone', 'feel', 'light', 'size', 'display', 'awesom', 'recept', 'smooth', 'camera', 'click', 'realli', 'good', 'pictur', 'click', '48mp', 'mode', 'clariti', 'sustain', 'even', 'zoom', 'charg', 'also', 'pretti', 'fast', 'hope', 'batteri', 'life', 'also', 'good', 'overal', 'seem', 'superb', 'phone', 'price', 'point']\n",
      "['camera', 'averag', 'perform', 'night', 'mode', 'camera', 'not', 'satisfi', 'dark', 'pictur', 'take', 'expect', 'fr', 'vivo', 'batteri', 'display', 'excel', 'camera', 'not', 'good', 'worst', 'night', 'mode', 'camera', 'thing', 'sound', 'good']\n",
      "['wow', 'expect', 'main', 'camera', 'awesom', 'camera', 'centric', 'phone', 'go', 'processor', 'actual', 'run', 'well', 'snapdragon', '675with', '8gb', 'ram', 'swear', 'display', 'camera', 'batteri', 'awesom', 'even', '4500mah', 'batteri', 'light', 'weight', 'perfect', 'phone', 'go', 'look', 'phone', 'good', 'camera', 'display', 'batteri', 'u', 'not', 'regret', 'happi', 'custom', 'thank', 'amazon', 'quick', 'deliveri']\n",
      "['good', 'best', 'product']\n",
      "['bad', 'pleas', 'buy', 'one', 'return', 'polici', 'hurt', 'vivo']\n",
      "['product', 'wast', 'better', 'go', 'mi', 'oppo', 'samsung', 'brand', 'use', 'almost', 'brand', 'vivo', 'worst', 'one', 'take', 'time', 'load', 'anyth', 'sens', 'like', 'lag', 'exampl', 'open', 'browser', 'start', 'lag', 'load', 'page', 'open', 'anyon', 'dp', 'whatsapp', 'also', 'sens', 'import', 'one', 'call', 'get', 'ear', 'pain', 'headach', 'call', 'amazon', 'guy', 'worst', 'kept', 'replac', 'tell', 'common', 'thing', 'brand', 'ever', 'issu', 'tell', 'tell', 'simpli', 'common', 'brand', 'one', 'thing', 'littl', 'bit', 'good', 'cam', 'noth', 'els', 'even', '8gb', 'ram', 'work', 'like', '2', 'gb', 'ram', 'worst', 'phone', 'ever', 'use', 'worst', 'guy', 'amazon', 'tri', 'take', 'flipkart']\n",
      "['product', 'good', 'aspect', 'price', 'littl', 'higher', 'processor', 'relat', 'old', 'camera', 'qualiti', 'goodbatteri', 'life', 'goodsound', 'qualiti', 'normal', 'processor', 'relat', 'oldsinc', 'processor', 'relat', 'old', 'price', 'would', 'kept', '17k', '19k']\n",
      "['huge', 'expect', 'vivo', 'vainth', 'devic', 'board', 'issu', 'custom', 'care', 'tri', 'cheat', 'ask', 'pay', 'refund', 'deposit', 'board', 'replac', 'although', 'warranti', 'devic', 'serious', 'flaw', '2', 'softwar', 'updat', 'rectifi', 'vivo', 'custom', 'care', 'ask', 'take', 'devic', 'servic', 'center', 'nowaday', 'servic', 'centr', 'run', 'gang', 'demand', 'money', 'pretext', 'refund', 'deposit', 'repair', 'complet', 'deni', 'pay', 'start', 'fight', 'time', 'remov', 'store', 'peopl', 'readi', 'trash', 'nearbi', 'store', 'huge', 'problem', 'india', 'gadget', 'becom', 'common', 'peopl', 'loot', 'thug', 'various', 'way']\n",
      "['first', 'look', 'get', 'eye', 'phone', 'know', 'mani', 'hour', 'continu', 'gonna', 'play', 'beauti', 'masterpiecei', 'got', 'mani', 'suggest', 'not', 'buy', 'thought', 'take', 'risk', 'worth', 'amaz', 'sleek', 'punchi', 'color']\n",
      "['hell', 'man', 'im', 'oneplus', 'fan', 'till', 'buy', 'mobil', 'camera', 'phone', 'complet', 'wors', 'use', 'oneplus', '6', 'op6', 'camera', 'much', 'better', 'compar', 'op8', 'import', 'point', 'note', 'phone', 'not', 'even', 'compet', 'mom', 'phone', 'samsung', 'a50', '15k', 'rs', 'phone', 'last', 'dont', 'trust', 'review', 'kind', 'reach', 'ati', 'provid', 'origin', 'pictur', 'wast', '40k', 'not', 'let', 'guy', 'wastenot', 'seen', 'review', 'youtub', 'say', 'bit', 'bad', 'complet', 'bad']\n",
      "['chang', 'oneplus', '8', '4', 'time', 'due', 'someth', 'defect', 'like', 'headach', 'give', 'screen', 'line', 'mark', 'back', 'bodi', 'etc', 'expens', 'phone', 'box', 'puf', 'torn', 'display', 'dull', 'notic', 'close', 'warm', 'yellowish', 'control', 'oneplus', 'peopl', 'go', 'nut', 'like', 'wow', 'display', 'not', 'realiz', 'given', 'inferior', 'qualiti', 'display', 'samsung', 'hope', 'realli', 'hope', 'peopl', 'strive', 'perfect', 'realli', 'understand', 'get', 'pay', 'control', 'excit', 'bit', 'forward', 'stronger', 'feedback', 'believ', 'listen', 'amazon', 'india', 'help', '5th', 'devic', 'came', 'altogeth', 'differ', 'locat', 'excel', 'box', 'phone', 'built', 'display', 'feel', 'broader', 'even', 'dimens', 'two', 'parallel', 'line', 'design', 'defect', 'back', 'clean', 'curvi', 'like', 'oneplus', '8', '8gb', 'variant', 'mine', '6gb', 'one', 'screen', 'display', 'still', 'warm', 'want', 'color', 'punchi', 'clear', 'show', 'display', 'far', 'better', 'previous', 'return', 'devic', '1st', 'oneplus', '8', '8gb', 'long', 'perman', 'line', 'mark', 'back', 'bodi', 'look', 'close', '2nd', 'oneplus', '8', '8gb', 'display', 'blue', 'light', 'filter', 'issu', 'sure', 'gave', 'headach', 'second', 'eye', 'strain', 'well', '3rd', 'oneplus', '8', '6gb', '2', 'parallel', 'line', 'edg', 'back', 'bodi', 'devic', 'tilt', 'littl', 'like', 'dent', 'kind', 'design', 'defect', 'believ', 'though', 'one', 'best', 'display', 'even', '5th', 'one', 'keep', 'smoother', '90', 'hz', '4th', 'oneplus', '8', '6gb', '2', 'parallel', 'line', 'thought', 'normal', 'okay', 'display', 'yellowish', 'dull', 'play', 'pubg', 'graphic', 'optim', 'made', 'game', 'look', 'ugli', 'extrem', 'hd', 'set', 'hdr', 'suck', 'look', 'imag', 'articl', 'etc', 'look', 'good', '5th', 'oneplus', '8', '6gb', 'variant', 'told', '2', 'parallel', 'line', 'punchi', 'color', 'not', 'dull', 'good', 'display', 'howev', 'still', 'yellowish', 'larg', 'part', 'screen', 'whitish', 'around', 'right', 'left', 'edg', 'screen', 'vivid', 'mode', 'notic', 'display', 'not', 'warm', 'also', 'notic', 'vivid', 'mode', 'nicer', 'whiter', 'previous', 'devic', 'one', 'whether', 'dull', 'not', 'also', 'know', 'screen', 'yellowish', 'bit', 'make', 'video', 'view', 'amaz', 'experi', 'make', 'natur', 'skin', 'color', 'etc', 'less', 'correct', 'flaw', 'mention', 'howev', 'tierd', 'somewhat', 'satisfi', 'want', 'oneplus', 'correct', 'possibl', 'softwar', 'updat', 'without', 'compromis', 'qualiti', 'display', 'said', 'appl', 'never', 'compromis', 'qualiti', 'even', 'delay', 'product', 'find', 'imperfect', 'like', 'io', 'use', 'appl', 'though', 'oneplus', 'like', 'not', 'happi', 'kind', 'support', 'notic', 'pay', 'got', '8gb', 'one', 'realli', 'like', 'get', 'better', 'qalutiy', 'made', 'devic', 'first', 'one', 'issu', 'mention', 'case', 'lead', 'disappoint', 'variant', 'given', 'attent', 'perfect', 'intern', 'hardwar', 'chang', 'oneplus', '8', 'first', 'last', 'devic', 'short', 'period', 'time', 'look', 'brand', 'care', '3', '5']\n",
      "['great', 'phone', 'game', 'perform', 'great', 'devic', 'get', 'heat', 'even', 'high', 'set', 'play', 'pubg', 'mobil', 'detail', 'provid', 'excit', 'make', 'feel', 'real', 'shadow', 'tree', 'stone', 'mud', 'etc', 'small', 'hand', 'buy', 'game', 'feel', 'comfort', 'small', 'hand', 'camera', 'good', 'say', 'awesom', 'batteri', 'life', 'great', 'charg', 'fast', 'ui', 'expect', 'stock', 'android', 'pre', 'instal', 'third', 'parti', 'app', 'also', 'instal', 'uninstal', 'except', 'netflix', 'back', 'cover', 'provid', 'loos', 'cheap', 'buy', 'new', 'better', 'one', 'great', 'phone', 'cheer']\n",
      "['first', 'glanc', 'feel', 'premium', 'qualiti', 'oneplus', '8', 'mention', 'good', 'bad', 'point', 'quick', 'understand', 'everi', 'buyer', 'good', 'good', 'build', 'qualityvivid', 'displayexcel', 'perform', 'softwaresolid', 'batteri', 'lifedec', 'camera', 'performancech', 'designconsist', 'performanceoxygen', 'os', 'blissclass', 'lead', 'displaybad', 'ip', 'rate', 'wireless', 'charginglow', 'light', 'video', 'could', 'betterbas', 'camera', 'setup']\n",
      "['bought', 'one', 'plus', '8', '3', 'day', 'back', 'face', 'multipl', 'issu', 'like', 'batteri', 'backup', 'get', '3', '4', 'hour', 'screen', 'time', 'also', 'face', 'issu', 'mobil', 'hotspot', 'connect', 'laptop', 'get', 'reconnect', 'howev', 'connet', 'anoth', 'devic', 'hotspot', 'network', 'work', 'also', 'get', 'heat', 'everi', 'time', 'often', 'use', 'lite', 'applic', 'like', 'facebook', 'whtsapp', 'app', 'game', 'tri', 'contact', 'one', 'plus', 'support', 'call', 'whtsapp', 'chat', 'respons', 'side']\n",
      "['camera', 'qualiti', 'worst', 'oneplus', '6t']\n",
      "['bad', 'heat', 'issu']\n",
      "['great', 'phone', 'amazon', 'deliv', 'within', '10', 'hour', 'order', 'realli', 'happi', 'pros', 'beast', 'performancegreat', 'batteri', 'lifebrilli', 'screenfluid', '90hzand', 'blaze', 'fast', 'oxygen', 'os5gcon', 'camera', '2megapixel', 'camera', 'sake', '3', 'camera', 'backrest', 'camera', 'averagehop', 'upad', 'fix', 'given', 'one', 'plus', 'histori', 'think', 'curv', 'screen', 'caus', 'accident', 'touch', 'cover', 'cover', 'phone', 'fulli', 'front', 'due', 'display', 'henc', 'prone', 'break', 'regular', 'flat', 'screen', 'phone', 'like', '7thave', 'littl', 'bit', 'weight', 'due', 'larger', 'batteryprinc', 'high', 'agress', 'could', 'provid', 'wireless', 'charg', 'headphon', 'jackin', 'price', 'overal', 'good', 'phone', 'want', 'futur', 'proof', 'phone', 'eye', 'closedbut', 'budget', '7t', 'most', 'get', 'better', 'camera', 'almost', 'fast', 'snapdragon', '855pluschoos', 'wise']\n",
      "['obvious', 'might', 'done', 'extens', 'research', 'watch', 'mani', 'review', 'video', 'come', 'make', 'purchas', 'decis', 'one', 'way', 'happi', 'purchas', 'look', 'slim', 'eleg', 'power', 'light', 'weight', 'devic', 'offer', 'premium', 'hand', 'feel', 'day', 'day', 'import', 'devic', 'get', 'camera', 'go', 'serv', 'well', 'mani', 'occas', 'light', 'good', 'peopl', 'might', 'told', 'camera', 'system', 'mediocr', 'not', 'entir', 'true', 'softwar', 'updat', 'confid', 'say', 'yes', 'camera', 'neither', 'great', 'bad', 'deliv', 'decent', 'pictur', 'light', 'good', 'not', 'absolut', 'camera', 'geek', 'meet', 'succeed', 'expect', 'incas', 'camera', 'geek', 'get', '8pro', 'dont', 'think', 'save', 'money', 'conclus', 'feel', 'expens', 'nice', 'balanc', 'hand', 'light', 'joy', 'use', 'glacial', 'green', 'matt', 'finish', 'make', 'front', 'devic', 'look', 'expens', 'dark', 'edg', 'edg', 'amol', 'panel', 'perform', 'like', 'qc', '865', 'easili', 'get', 'day', 'full', 'charg', 'low', 'risk', 'decis', 'cant', 'go', 'wrong', 'buy', 'damn', 'thing']\n",
      "['3', '5', 'mm', 'jack', 'adapt', 'phone', 'not', 'give', 'sound', 'test', 'mani', 'earphon', 'not', 'work', 'shame', 'oneplus']\n",
      "['super', 'phone', 'buy', 'phone', 'nice']\n",
      "['never', 'buy', 'oppo', 'phone', 'wastag', 'money', 'go', 'buy', 'phone', 'chang', 'decis', 'not', 'provid', 'cost', 'buy', 'buy', 'samsung', 'galaxi', 'm21', 'instead', 'go', 'brand', 'phone', 'budget', 'segment', '15k', 'get', 'best', 'perform', 'camera', 'batteri', 'display', 'overal', 'everyth', 'better', 'oppo', 'noth', 'new', 'oppo', 'a53', '90', 'hz', 'refresh', 'rate', 'oppo', 'never', 'provid', 'valu', 'money', 'product']\n",
      "['earphon', 'not', 'receiv', 'headset', 'box']\n",
      "['poor', 'back', 'camera', 'not', 'buy', 'u', 'look', 'good', 'camera']\n",
      "['realli', 'happi', 'wonder', 'phone', 'power', 'processor', 'easili', 'play', 'game', 'listen', 'favorit', 'music', 'without', 'lag', 'excel', 'batteri', 'life', 'earlier', 'phone', 'need', 'charg', 'twice', 'day', 'need', 'charger', 'car', 'offic', 'home', 'valu', 'money', 'must', 'buy', 'price', 'segment']\n",
      "['word', 'handsetit', 'realli', 'fantast', 'phone', 'magnific', 'featur', 'camerai', 'high', 'recommend', 'purchas', 'producti', 'use', 'phone', 'yesterday', 'morn', 'till', 'time', 'still', 'hass', '30', 'percent', 'batteryexcel', 'phone', 'rangethankyou', 'oppo', 'also', 'amazon', 'prime', 'day', 'deliveri']\n",
      "['call', 'drop', 'side', 'cannot', 'hear']\n",
      "['price', 'mobil', 'good', 'compar', 'compani', 'camera', 'poor', 'thing', 'good']\n",
      "['nice', 'product', 'valu', 'money', 'good']\n",
      "['good', 'product', 'happi']\n",
      "['even', 'charg', 'phone', 'not', 'respond', 'kind', 'replac', 'immedi', 'basi', 'refund', 'asap']\n",
      "['best', 'phon', 'camera', 'qualiti', 'not', 'good']\n",
      "['total', 'satisfi', 'product', 'good', 'valu', 'product', 'amazon', 'deliv', 'time', 'proper', 'pack', 'happi']\n",
      "['nice']\n",
      "['money', 'less']\n",
      "['bad', 'phone', 'pleas', 'buy', 'price', 'u', 'get', 'better', 'camara']\n",
      "['ok']\n",
      "['super', 'good', 'mobilegood']\n",
      "['disappoint', 'total', 'camera', 'display', 'watch', 'youtub', 'video', 'pathet', 'rest', 'featur', 'ok', '4gb', '64gb', '5000mah', 'side', 'finger', 'print', 'save', 'grace', 'otherwis', 'didnt', 'expect', 'vivo', 'price', 'dont', 'buy', 'spend', 'anoth', '1000rs', 'go', 'mani', 'better', 'phone']\n",
      "['10', 'day', 'display', 'blank', 'batteri', 'heat', 'respons', 'servic', 'center', 'request', 'replac', 'realli', 'panic', 'put', 'much', 'price', 'cant', 'treat', 'proper', 'product', 'person', 'request', 'dont', 'choos', 'brand', 'dont', 'want', 'see', 'other', 'struggl', 'like', 'worst']\n",
      "['panason', 'eluga', 'i8', 'averag', 'phone', 'great', 'expect', 'india', 'brand', 'must', 'say', 'chines', 'product', 'spcli', 'mi', 'xiomi', 'give', 'far', 'much', 'better', 'qualiti', 'price', '1', 'phone', 'not', 'support', 'hd', 'youtub', 'video', 'max', 'resolut', '480p', 'video', '1080p', 'video', 'qualiti', 'check', 'amazon', 'prime', 'video', '2', 'tri', 'download', 'imag', 'wallpap', 'googl', 'chrome', 'system', 'automat', 'convert', 'hd', 'imag', 'low', 'level', '3', 'captur', 'imag', 'also', 'not', 'good', 'expect', '13px', 'camera', 'front', 'camera', 'even', 'worst', 'light', 'dim', 'chanc', 'look', 'like', 'ghost', 'front', 'camera', 'plus', 'beauti', 'featur', 'useless', '4', 'everi', 'rington', 'annoy', '5', 'android', '10', 'releas', 'sept', '2019', 'june', '2020', 'end', 'still', 'not', 'updat', 'buy', 'product', 'well', 'right', 'lock', 'lot', 'option', 'not', 'avail', 'purchas', 'mobil', 'mom', 'fine', 'need', 'watch', 'youtub', 'video', 'forward', 'gm', 'pic', 'relat', 'call', 'talk', 'btw', 'warranti', 'card', 'written', '24', 'month', 'devic', 'includ', 'batteri', 'warranti', 'period', 'mention', '12', 'month', 'amazon', 'product', 'descript', 'accessori', 'warranti', 'period', 'still', '6', 'month', 'hope', 'compani', 'follow', 'warranti', 'card', 'descript', 'check', 'imag', 'highlight', 'portion', 'point']\n",
      "['nice', 'mobil', 'featur', 'price', 'littl', 'bit', 'high', 'overal', 'mobil', 'best', 'old', 'age', 'peopl', 'not', 'game', 'amazon', 'specifi', 'wrong', 'batteri', 'capac', 'batteri', '4000', 'mah']\n",
      "['beauti', 'size', 'mani', 'goodei', 'great', 'speed', 'thank', 'octa', 'core', 'processor', 'decent', 'camera', 'nice', 'screen', 'size', 'expect', '10k', 'phone']\n",
      "['receiv', 'defect', 'product', 'order', 'gift', 'aunt', 'product', 'packag', 'hole', 'receiv', 'blast', 'mobil', 'put', 'charg', 'first', 'time', 'could', 'fatal', 'peopl', 'around', 'need', 'proper', 'justif', 'action']\n",
      "['excel', 'phone', 'go', 'itit', 'amaz', 'display', 'qualiti', 'improv', 'use', 'phone', 'past', '15', 'day', 'qualiti', 'a1', 'yeah', 'price', 'littl', 'high', 'product', 'excel', 'game', 'experi', 'download', 'pubg', 'work', 'high', 'graphic', 'lag', 'realli', 'shock', 'see', 'also', 'gta', 'work', 'proper', 'game', 'also', 'good', 'realli', 'go', 'situat', 'india', 'let', 'buy', 'indian', 'product', 'make', 'india', 'great', 'phone', 'made', 'india', 'made', 'india', 'love', 'u', 'panason']\n",
      "['use', '5', 'day', 'heavi', 'usag', 'review', 'phone', 'user', 'interfac', 'stock', 'android', 'built', 'qualiti', 'good', 'plastic', 'back', 'camera', 'averag', 'expect', 'design', 'classic', 'noth', 'new', 'ok', 'type', 'ram', '3gb', 'provid', 'decent', 'perform', 'multi', 'task', 'fluent', 'zero', 'issu', 'ok', 'game', 'well', 'lag', 'heat', '30', '45', 'min', 'batteri', 'backup', 'around', '16', 'hour', 'charg', 'everyday', 'price', '8', '5k', 'get', 'better', 'non', 'chines', 'smartphon', 'mani', 'featur', 'type', 'perform', 'overal', 'like', 'averag', 'allround', 'spec', 'complaint', 'expect', 'would', 'rate', 'decent', 'nice', 'peopl', 'normal', 'usag', 'perfect', 'phone', 'must', 'go', 'peopl', 'heavi', 'usag', 'well', 'think', 'buy', 'budget', 'think', 'get', 'anyth', 'signific', 'better', 'overal', 'full', 'mark', 'achiev', 'deliveri', 'speed', 'packag', 'remark', 'alway', 'amazon']\n",
      "['go']\n",
      "['good', 'qualiti', 'big', 'size', 'phone', 'hd', 'screenand', 'good', 'camera', 'qualiti', 'low', 'light4000', 'mah', 'batterycheap', 'platform']\n",
      "['budget', 'phone', 'camera', 'not', 'good', 'yet', 'nice', 'bought', '8000', 'replac', 'chines', 'phone']\n",
      "['panason', 'eluga', 'i8', '3gb', '32gb', 'black', 'user', 'review', 'purchas', '16', 'aug', '2020', 'sunday', 'replac', 'pros', 'budget', 'phone', 'good', 'processor', 'helio', 'p22', 'panason', 'brand', '2', 'year', 'warranti', 'made', 'india', 'led', 'notif', 'light', 'red', 'green', 'blue', 'complet', 'accessori', 'charger', 'headphon', 'tpu', 'case', 'screen', 'guard', 'finger', 'print', 'scanner', 'good', 'sound', 'qualiti', 'call', 'speaker', 'media', 'etc', 'also', 'good', '10w', 'charger', '70', 'charg', '90', 'min', '4000mah', 'batteri', 'good', '1', '5', 'day', 'normal', 'use', 'digit', 'wellbieng', 'parent', 'control', 'set', 'could', 'better', 'display', 'resolut', '19', '9', 'screen', '720x1520p', '6', '22', 'inch', 'screen', 'ok', 'camera', 'ok', 'graini', 'photo', 'low', 'light', 'condit', 'android', '9', 'pie', 'softwar', 'updat', 'not', 'expect', 'screen', 'navig', 'bar', 'control', 'fix', 'layout', 'charger', 'usb', 'c', 'type', 'could', 'provid', 'dimens', '158x75', '5x8mm', 'weight', '179', 'gm', '199', '6', 'gm', 'tpu', 'case', 'game', 'play', 'wcc2', 'cricket', 'game', 'work', 'fine', 'movi', 'amazon', 'prime', 'youtub', 'work', 'fine', 'max', '480p', 'video', 'ok', 'casual', 'view', 'screen', 'cast', 'work', 'fine', 'smart', 'tv', 'step', 'counter', 'avail', 'health', 'app', 'bluetooth', 'connect', 'car', 'file', 'transfer', 'ok', 'overal', 'good', 'buy', 'normal', 'usag', 'person', 'look', 'budget', 'phone', 'note', 'review', 'base', 'use', 'phone', '5', 'day']\n",
      "['okk', 'mobil', 'heat', 'problem', 'high', 'suggest', 'guy', 'plz', 'buy', 'devic']\n",
      "['hi', 'guy', 'general', 'phone', 'nice', 'manag', 'provid', 'feel', 'premium', 'phone', 'howev', 'flaw', 'wit', 'experi', 'till', 'date', 'let', 'provid', 'pros', 'con', 'phone', 'pros', '1', 'nice', 'built', 'qualiti', 'comfort', 'hold', '2', 'excel', 'perform', '3', 'symmetr', 'stereo', 'speaker', 'better', 'experi', 'watch', 'video', 'play', 'game', '4', 'nice', 'camera', 'good', 'qualiti', 'low', 'light', 'night', 'photographi', 'still', 'mani', 'flagship', 'phone', 'lack', '5', 'mark', '90hz', 'refresh', 'rate', 'display', '6', 'amol', 'screen', 'bright', 'excel', 'issu', 'view', 'display', 'even', 'display', 'direct', 'face', 'toward', 'sun', '7', 'excel', 'charg', '30', 'watt', 'wire', 'wireless', 'charg', 'tri', 'charg', 'phone', 'dead', '0', '100', 'achiev', '1', 'hour', 'person', 'opinion', 'think', 'higher', 'charg', 'wattag', 'like', '65', 'watt', 'good', 'phone', 'batteri', 'sound', 'like', 'gimmick', 'even', 'though', 'doubl', 'wattag', 'usual', 'charg', 'phone', 'smaller', 'batteri', '4000', 'mah', '40', 'minut', 'not', 'much', 'differ', '8', 'super', 'steadi', 'video', 'rear', 'camera', 'presenc', 'ei', 'oi', '9', 'bigger', 'batteri', '4780', 'mah', 'compar', 'flagship', 'phone', '10', 'miss', 'featur', 'like', 'revers', 'wireless', 'charg', '5g', 'support', 'though', 'india', 'not', 'use', 'least', 'coupl', 'year', 'nfc', 'dual', 'gps', 'capabl', 'connect', 'wifi', 'provid', 'hotspot', 'simultan', 'miui', 'ad', 'till', 'date', 'con', '1', 'limit', 'resolut', 'screen', 'fhd', 'bigger', 'size', 'screen', 'result', 'lower', 'ppi', 'thus', 'stand', 'nowher', 'near', 'qhd', 'display', '2', 'phone', 'come', 'global', 'miui', '11', 'googl', 'dialer', 'messag', 'app', 'thus', 'miss', 'featur', 'like', 'call', 'record', 'phone', 'note', 'etc', 'reason', 'mani', 'countri', 'like', 'uae', 'illeg', 'call', 'record', 'app', 'vpn', 'app', '3', 'trust', 'miui', 'lot', 'bug', 'thus', 'result', 'issu', 'like', 'use', 'finger', 'print', 'scanner', 'devic', 'heat', 'time', 'even', 'normal', 'usag', 'overal', 'perform', 'accept', 'hope', 'issu', 'resolv', 'miui', '12', 'updat', 'go', 'avail', 'soon', '4', 'outdat', 'front', 'camera', 'support', 'rear', 'camera', 'hardwar', '20', 'mp', 'front', 'camera', 'without', 'ei', '2', 'mp', 'macro', 'camera', '2', 'mp', 'depth', 'camera', '13', 'mp', 'ultrawid', 'camera', 'seem', 'like', 'joke', '2020', 'flagship', 'phone', 'price', '50k', '5', 'batteri', 'bigger', 'compar', 'mani', 'devic', 'loos', '10', '20', 'even', 'left', 'untouch', 'overnight', 'thus', 'say', 'not', 'good', 'batteri', 'manag', '6', 'miss', '3', '5', 'mm', 'jack', 'also', 'c', 'type', '3', '5', 'mm', 'jack', 'convert', 'provid', 'box', 'seem', 'good', 'qualiti', 'per', 'initi', 'impress', '7', 'though', 'low', 'light', 'photographi', 'good', 'daylight', 'photographi', 'not', 'except', 'one', 'might', 'expect', '108', 'mp', 'camera', '8', 'felt', 'call', 'qualiti', 'not', 'mark', 'mayb', 'case', 'price', 'issu', 'though', 'two', 'thing', 'gone', 'xiaomi', 'well', 'mobil', 'brands1', 'increment', 'gst', 'rate', '12', '18', '2', 'higher', 'import', 'duti', 'import', 'phone', 'think', 'phone', 'slight', 'overpr', '50k', 'compar', 'biggest', 'competitor', 'one', 'plus', '8', 'alway', 'choos', 'mi', '10', 'mani', 'thing', 'miss', 'one', 'plus', '8', 'like', 'wireless', 'charg', 'lp', 'ddr', 'ram', '4x', 'present', 'instead', '5', 'come', 'smaller', 'batteri', '4300mah', 'soni', 'imx', '586', 'camera', 'sensor', 'quit', 'outdat', 'price', 'differ', '5k', 'even', 'narrow', 'use', 'bank', 'offer', 'avail', 'case', 'howev', 'comparison', 'one', 'plus', '8', 'pro', 'feel', 'mi', '10', 'slight', 'behind', 'miui', 'bug', 'relat', 'flaw', 'fhd', 'display', 'outdat', 'secondari', 'camera', 'hardwar', 'includ', 'front', 'camera', 'thus', 'believ', 'aforement', 'issu', 'would', 'address', 'xiaomi', 'would', 'consid', 'phone', 'justifi', 'price', 'complet', 'without', 'doubt', 'would', 'best', 'phone', 'ever', '50k', 'howev', 'realiti', 'still', 'phone', 'definit', 'strong', 'competitor', 'flagship', 'mobil', 'segment']\n",
      "['heat', 'problem', 'wast', 'hard', 'money', 'go', 'phone', 'rang']\n",
      "['outer', 'packag', 'intact', 'inner', 'box', 'seal', 'found', 'broken', 'certain', 'tamper', 'photo', 'attach']\n",
      "['ist', 'bad']\n",
      "['keep', 'hang', 'seal', 'box', 'broken', 'perform', 'not', 'expect']\n",
      "['overheat', 'batteri', 'drain', 'quick', 'perform', 'not', 'expect', '50k', 'phone']\n",
      "['not', 'good', 'qualiti', 'product', 'face', 'problem', 'mic', 'phone', 'tri', 'sever', 'call', 'voic', 'issu', 'well', 'phone', 'overh', 'issu']\n",
      "['mobil', 'not', 'good', 'mani', 'problem', 'hang', 'heat', 'buy', 'wast', 'money']\n",
      "['cute', 'mobil', 'super', 'perform', 'good', 'camera']\n"
     ]
    }
   ],
   "source": [
    "sent = []\n",
    "for i in range(len(Amazon_reviews)):\n",
    "  sent.append(prediction1(Amazon_reviews[\"reviews\"][i]))    #predictions on reviews added to the sent list"
   ]
  },
  {
   "cell_type": "code",
   "execution_count": 343,
   "metadata": {
    "id": "GLp9EN6eOlz_"
   },
   "outputs": [],
   "source": [
    "Amazon_reviews[\"Sentiments\"] =sent                     #Map all the sentiments to respective reviews in dataframe"
   ]
  },
  {
   "cell_type": "code",
   "execution_count": 344,
   "metadata": {
    "id": "Bn8AgDbboy4B"
   },
   "outputs": [],
   "source": [
    "Amazon_reviews.drop(columns=[\"Unnamed: 0\"],inplace=True)"
   ]
  },
  {
   "cell_type": "markdown",
   "metadata": {},
   "source": [
    "# Result"
   ]
  },
  {
   "cell_type": "code",
   "execution_count": 345,
   "metadata": {
    "colab": {
     "base_uri": "https://localhost:8080/",
     "height": 1000
    },
    "id": "CcAu6Bg5Ousn",
    "outputId": "d6d77cd5-1e75-4896-80b0-d1ea86870789"
   },
   "outputs": [
    {
     "data": {
      "text/html": [
       "<div>\n",
       "<style scoped>\n",
       "    .dataframe tbody tr th:only-of-type {\n",
       "        vertical-align: middle;\n",
       "    }\n",
       "\n",
       "    .dataframe tbody tr th {\n",
       "        vertical-align: top;\n",
       "    }\n",
       "\n",
       "    .dataframe thead th {\n",
       "        text-align: right;\n",
       "    }\n",
       "</style>\n",
       "<table border=\"1\" class=\"dataframe\">\n",
       "  <thead>\n",
       "    <tr style=\"text-align: right;\">\n",
       "      <th></th>\n",
       "      <th>Cust_name</th>\n",
       "      <th>Mob_name</th>\n",
       "      <th>reviews</th>\n",
       "      <th>Sentiments</th>\n",
       "    </tr>\n",
       "  </thead>\n",
       "  <tbody>\n",
       "    <tr>\n",
       "      <th>0</th>\n",
       "      <td>Akash peelwa</td>\n",
       "      <td>Redmi Note 9 Pro</td>\n",
       "      <td>PLZZ read this complete information before buy...</td>\n",
       "      <td>Very Negative</td>\n",
       "    </tr>\n",
       "    <tr>\n",
       "      <th>1</th>\n",
       "      <td>manish</td>\n",
       "      <td>Redmi Note 9 Pro</td>\n",
       "      <td>good batter backupgood cameragood mob designno...</td>\n",
       "      <td>Positive</td>\n",
       "    </tr>\n",
       "    <tr>\n",
       "      <th>2</th>\n",
       "      <td>Sayantan Dey</td>\n",
       "      <td>Redmi Note 9 Pro</td>\n",
       "      <td>Nice product in this price... Good quality and...</td>\n",
       "      <td>Positive</td>\n",
       "    </tr>\n",
       "    <tr>\n",
       "      <th>3</th>\n",
       "      <td>Janvhi J.</td>\n",
       "      <td>Redmi Note 9 Pro</td>\n",
       "      <td>Hi all,As I have bought redmi note 9 pro on fi...</td>\n",
       "      <td>Positive</td>\n",
       "    </tr>\n",
       "    <tr>\n",
       "      <th>4</th>\n",
       "      <td>VINOD SOMVANSHI</td>\n",
       "      <td>Redmi Note 9 Pro</td>\n",
       "      <td>Don't go for this mobile as I face issue with ...</td>\n",
       "      <td>Positive</td>\n",
       "    </tr>\n",
       "    <tr>\n",
       "      <th>5</th>\n",
       "      <td>jaspreet</td>\n",
       "      <td>Redmi Note 9 Pro</td>\n",
       "      <td>Beauty and the beast combination with snapdrag...</td>\n",
       "      <td>Neutral</td>\n",
       "    </tr>\n",
       "    <tr>\n",
       "      <th>6</th>\n",
       "      <td>nouman ahmed</td>\n",
       "      <td>Redmi Note 9 Pro</td>\n",
       "      <td>Poor camera quality. Breadth too wide to grip ...</td>\n",
       "      <td>Positive</td>\n",
       "    </tr>\n",
       "    <tr>\n",
       "      <th>7</th>\n",
       "      <td>riaz Khan</td>\n",
       "      <td>Redmi Note 9 Pro</td>\n",
       "      <td>The phone looks very good and premium but I no...</td>\n",
       "      <td>Positive</td>\n",
       "    </tr>\n",
       "    <tr>\n",
       "      <th>8</th>\n",
       "      <td>Arun kumar</td>\n",
       "      <td>Redmi Note 9 Pro</td>\n",
       "      <td>Super camera, battery, sound amazing  very much</td>\n",
       "      <td>Neutral</td>\n",
       "    </tr>\n",
       "    <tr>\n",
       "      <th>9</th>\n",
       "      <td>Rajesh S</td>\n",
       "      <td>Redmi Note 9 Pro</td>\n",
       "      <td>Camera Protrait mode Not good but 48 MP cam Go...</td>\n",
       "      <td>Very Negative</td>\n",
       "    </tr>\n",
       "    <tr>\n",
       "      <th>10</th>\n",
       "      <td>Anil kumar sharma</td>\n",
       "      <td>Redmi Note 8</td>\n",
       "      <td>Febulas performance Redmi Note 8 ...I love it ...</td>\n",
       "      <td>Neutral</td>\n",
       "    </tr>\n",
       "    <tr>\n",
       "      <th>11</th>\n",
       "      <td>Ashraf</td>\n",
       "      <td>Redmi Note 8</td>\n",
       "      <td>Phone hanged many times .I return it for repla...</td>\n",
       "      <td>Very Negative</td>\n",
       "    </tr>\n",
       "    <tr>\n",
       "      <th>12</th>\n",
       "      <td>R.T</td>\n",
       "      <td>Redmi Note 8</td>\n",
       "      <td>Loving the phone....Purchased with bank discou...</td>\n",
       "      <td>Positive</td>\n",
       "    </tr>\n",
       "    <tr>\n",
       "      <th>13</th>\n",
       "      <td>Mahendra</td>\n",
       "      <td>Redmi Note 8</td>\n",
       "      <td>best mobile under 10000</td>\n",
       "      <td>Positive</td>\n",
       "    </tr>\n",
       "    <tr>\n",
       "      <th>14</th>\n",
       "      <td>Sadhna agrawal</td>\n",
       "      <td>Redmi Note 8</td>\n",
       "      <td>Pros- batteryCameraPriceLookCons- delicate. So...</td>\n",
       "      <td>Very Negative</td>\n",
       "    </tr>\n",
       "    <tr>\n",
       "      <th>15</th>\n",
       "      <td>Amazon Customer</td>\n",
       "      <td>Redmi Note 8</td>\n",
       "      <td>Excellent phone under 10,000. Specialy 18 watt...</td>\n",
       "      <td>Negative</td>\n",
       "    </tr>\n",
       "    <tr>\n",
       "      <th>16</th>\n",
       "      <td>Shah Arsalan</td>\n",
       "      <td>Redmi Note 8</td>\n",
       "      <td>Redmi note 8 is the best Smartphone under 10k ...</td>\n",
       "      <td>Positive</td>\n",
       "    </tr>\n",
       "    <tr>\n",
       "      <th>17</th>\n",
       "      <td>Tabish Momin</td>\n",
       "      <td>Redmi Note 8</td>\n",
       "      <td>Awesome mobile under 10K.</td>\n",
       "      <td>Neutral</td>\n",
       "    </tr>\n",
       "    <tr>\n",
       "      <th>18</th>\n",
       "      <td>Rao</td>\n",
       "      <td>Redmi Note 8</td>\n",
       "      <td>Excellent phone in this price point 👌👌👌</td>\n",
       "      <td>Negative</td>\n",
       "    </tr>\n",
       "    <tr>\n",
       "      <th>19</th>\n",
       "      <td>Aman Singh</td>\n",
       "      <td>Redmi Note 8</td>\n",
       "      <td>Redmi has been a prominent smartphone brand wh...</td>\n",
       "      <td>Very Negative</td>\n",
       "    </tr>\n",
       "    <tr>\n",
       "      <th>20</th>\n",
       "      <td>Rinse John</td>\n",
       "      <td>OnePlus 7T Pro</td>\n",
       "      <td>==== A lengthy &amp; brutally honest review. It's ...</td>\n",
       "      <td>Positive</td>\n",
       "    </tr>\n",
       "    <tr>\n",
       "      <th>21</th>\n",
       "      <td>BunnyDecoder</td>\n",
       "      <td>OnePlus 7T Pro</td>\n",
       "      <td>I think I am the first one to write a review f...</td>\n",
       "      <td>Positive</td>\n",
       "    </tr>\n",
       "    <tr>\n",
       "      <th>22</th>\n",
       "      <td>Suhrid Bansal</td>\n",
       "      <td>OnePlus 7T Pro</td>\n",
       "      <td>Its fastest phone that I have ever experienced...</td>\n",
       "      <td>Very Negative</td>\n",
       "    </tr>\n",
       "    <tr>\n",
       "      <th>23</th>\n",
       "      <td>@bhi</td>\n",
       "      <td>OnePlus 7T Pro</td>\n",
       "      <td>Hi, When I open my this most awaited phone, I ...</td>\n",
       "      <td>Positive</td>\n",
       "    </tr>\n",
       "    <tr>\n",
       "      <th>24</th>\n",
       "      <td>Abirami</td>\n",
       "      <td>OnePlus 7T Pro</td>\n",
       "      <td>Amazing phone with an unbelievably smooth and ...</td>\n",
       "      <td>Neutral</td>\n",
       "    </tr>\n",
       "    <tr>\n",
       "      <th>25</th>\n",
       "      <td>Biswamber Hojai</td>\n",
       "      <td>OnePlus 7T Pro</td>\n",
       "      <td>One of the best Oneplus phone ever. Superb Ama...</td>\n",
       "      <td>Positive</td>\n",
       "    </tr>\n",
       "    <tr>\n",
       "      <th>26</th>\n",
       "      <td>Sahil Garg</td>\n",
       "      <td>OnePlus 7T Pro</td>\n",
       "      <td>I was really happy to have this phone, switchi...</td>\n",
       "      <td>Very Negative</td>\n",
       "    </tr>\n",
       "    <tr>\n",
       "      <th>27</th>\n",
       "      <td>Pradeep Singh Bisht</td>\n",
       "      <td>OnePlus 7T Pro</td>\n",
       "      <td>i bought one plus 7T pro on  last Tuesday i.e....</td>\n",
       "      <td>Very Negative</td>\n",
       "    </tr>\n",
       "    <tr>\n",
       "      <th>28</th>\n",
       "      <td>Astik</td>\n",
       "      <td>OnePlus 7T Pro</td>\n",
       "      <td>Phone is great. Everything is good.But I have ...</td>\n",
       "      <td>Positive</td>\n",
       "    </tr>\n",
       "    <tr>\n",
       "      <th>29</th>\n",
       "      <td>AmazonCustomer</td>\n",
       "      <td>OnePlus 7T Pro</td>\n",
       "      <td>No 3.5 headphone jack(Phone is thicker than 3....</td>\n",
       "      <td>Very Negative</td>\n",
       "    </tr>\n",
       "    <tr>\n",
       "      <th>30</th>\n",
       "      <td>jaywant</td>\n",
       "      <td>Apple iPhone 7</td>\n",
       "      <td>i received defective iphone 7 32GB silver colo...</td>\n",
       "      <td>Negative</td>\n",
       "    </tr>\n",
       "    <tr>\n",
       "      <th>31</th>\n",
       "      <td>Utpal Das</td>\n",
       "      <td>Apple iPhone 7</td>\n",
       "      <td>Redmi phones cameras are great, of course iPho...</td>\n",
       "      <td>Positive</td>\n",
       "    </tr>\n",
       "    <tr>\n",
       "      <th>32</th>\n",
       "      <td>Bharath Kumar</td>\n",
       "      <td>Apple iPhone 7</td>\n",
       "      <td>Thanks for Amazon service. phone is very nice ...</td>\n",
       "      <td>Positive</td>\n",
       "    </tr>\n",
       "    <tr>\n",
       "      <th>33</th>\n",
       "      <td>Deepika</td>\n",
       "      <td>Apple iPhone 7</td>\n",
       "      <td>My phone is not working since it has been arri...</td>\n",
       "      <td>Negative</td>\n",
       "    </tr>\n",
       "    <tr>\n",
       "      <th>34</th>\n",
       "      <td>Rishabh</td>\n",
       "      <td>Apple iPhone 7</td>\n",
       "      <td>If you are an apple fan !! This is a true beau...</td>\n",
       "      <td>Neutral</td>\n",
       "    </tr>\n",
       "    <tr>\n",
       "      <th>35</th>\n",
       "      <td>Keshav Singh</td>\n",
       "      <td>Apple iPhone 7</td>\n",
       "      <td>First of all one would want to know is the pro...</td>\n",
       "      <td>Very Negative</td>\n",
       "    </tr>\n",
       "    <tr>\n",
       "      <th>36</th>\n",
       "      <td>Vikram Nayak</td>\n",
       "      <td>Apple iPhone 7</td>\n",
       "      <td>Very good specs which can handle updates for n...</td>\n",
       "      <td>Positive</td>\n",
       "    </tr>\n",
       "    <tr>\n",
       "      <th>37</th>\n",
       "      <td>Lalit A.</td>\n",
       "      <td>Apple iPhone 7</td>\n",
       "      <td>This iPhone7 is in hearing problems. What Can ...</td>\n",
       "      <td>Negative</td>\n",
       "    </tr>\n",
       "    <tr>\n",
       "      <th>38</th>\n",
       "      <td>J Balaji</td>\n",
       "      <td>Apple iPhone 7</td>\n",
       "      <td>Exactly after one year 1 week the ear piece dd...</td>\n",
       "      <td>Very Negative</td>\n",
       "    </tr>\n",
       "    <tr>\n",
       "      <th>39</th>\n",
       "      <td>Mandeep B.</td>\n",
       "      <td>Apple iPhone 7</td>\n",
       "      <td>Coming from oneplus 3, this phone has been a g...</td>\n",
       "      <td>Positive</td>\n",
       "    </tr>\n",
       "  </tbody>\n",
       "</table>\n",
       "</div>"
      ],
      "text/plain": [
       "              Cust_name  ...     Sentiments\n",
       "0          Akash peelwa  ...  Very Negative\n",
       "1                manish  ...       Positive\n",
       "2          Sayantan Dey  ...       Positive\n",
       "3             Janvhi J.  ...       Positive\n",
       "4       VINOD SOMVANSHI  ...       Positive\n",
       "5              jaspreet  ...        Neutral\n",
       "6          nouman ahmed  ...       Positive\n",
       "7             riaz Khan  ...       Positive\n",
       "8            Arun kumar  ...        Neutral\n",
       "9              Rajesh S  ...  Very Negative\n",
       "10    Anil kumar sharma  ...        Neutral\n",
       "11               Ashraf  ...  Very Negative\n",
       "12                  R.T  ...       Positive\n",
       "13             Mahendra  ...       Positive\n",
       "14       Sadhna agrawal  ...  Very Negative\n",
       "15      Amazon Customer  ...       Negative\n",
       "16         Shah Arsalan  ...       Positive\n",
       "17         Tabish Momin  ...        Neutral\n",
       "18                  Rao  ...       Negative\n",
       "19           Aman Singh  ...  Very Negative\n",
       "20           Rinse John  ...       Positive\n",
       "21         BunnyDecoder  ...       Positive\n",
       "22        Suhrid Bansal  ...  Very Negative\n",
       "23                 @bhi  ...       Positive\n",
       "24              Abirami  ...        Neutral\n",
       "25      Biswamber Hojai  ...       Positive\n",
       "26           Sahil Garg  ...  Very Negative\n",
       "27  Pradeep Singh Bisht  ...  Very Negative\n",
       "28               Astik   ...       Positive\n",
       "29       AmazonCustomer  ...  Very Negative\n",
       "30              jaywant  ...       Negative\n",
       "31            Utpal Das  ...       Positive\n",
       "32        Bharath Kumar  ...       Positive\n",
       "33              Deepika  ...       Negative\n",
       "34              Rishabh  ...        Neutral\n",
       "35         Keshav Singh  ...  Very Negative\n",
       "36        Vikram Nayak   ...       Positive\n",
       "37             Lalit A.  ...       Negative\n",
       "38             J Balaji  ...  Very Negative\n",
       "39           Mandeep B.  ...       Positive\n",
       "\n",
       "[40 rows x 4 columns]"
      ]
     },
     "execution_count": 345,
     "metadata": {
      "tags": []
     },
     "output_type": "execute_result"
    }
   ],
   "source": [
    "Amazon_reviews.head(40)                                 #Final dataframe we get "
   ]
  },
  {
   "cell_type": "code",
   "execution_count": 347,
   "metadata": {
    "id": "W9DuMaw7OyQG"
   },
   "outputs": [],
   "source": [
    "Amazon_reviews.to_csv(\"Amazon_reviews_sentiments.csv\",index=True)  #Save result in csv file"
   ]
  },
  {
   "cell_type": "markdown",
   "metadata": {
    "id": "-a9yPb9Fn8vp"
   },
   "source": [
    "## please ask free if there is any confusion"
   ]
  },
  {
   "cell_type": "code",
   "execution_count": null,
   "metadata": {},
   "outputs": [],
   "source": []
  }
 ],
 "metadata": {
  "colab": {
   "name": "Sentiment_analysis",
   "provenance": []
  },
  "kernelspec": {
   "display_name": "Python 3",
   "language": "python",
   "name": "python3"
  },
  "language_info": {
   "codemirror_mode": {
    "name": "ipython",
    "version": 3
   },
   "file_extension": ".py",
   "mimetype": "text/x-python",
   "name": "python",
   "nbconvert_exporter": "python",
   "pygments_lexer": "ipython3",
   "version": "3.6.5"
  }
 },
 "nbformat": 4,
 "nbformat_minor": 1
}
