{
 "cells": [
  {
   "cell_type": "markdown",
   "metadata": {},
   "source": [
    "Stanford Sentiment treebank Data given is not in proper format to use, all the data we have is in text file which we can convert to  proper csv format, which will be used for training  the model.\n",
    "For this task I done a simple Python basic progragramming."
   ]
  },
  {
   "cell_type": "code",
   "execution_count": 1,
   "metadata": {},
   "outputs": [],
   "source": [
    "import os\n",
    "import sys\n",
    "\n",
    "import pandas\n"
   ]
  },
  {
   "cell_type": "code",
   "execution_count": 2,
   "metadata": {},
   "outputs": [],
   "source": [
    "def get_phrase_sentiments(base_directory):\n",
    "    def group_labels(label):\n",
    "        if label in [\"very negative\", \"negative\"]:\n",
    "            return \"negative\"\n",
    "        elif label in [\"positive\", \"very positive\"]:\n",
    "            return \"positive\"\n",
    "        else:\n",
    "            return \"neutral\"\n",
    "\n",
    "    dictionary = pandas.read_csv(os.path.join(base_directory, \"dictionary.txt\"), sep=\"|\")\n",
    "    dictionary.columns = [\"phrase\", \"id\"]\n",
    "    dictionary = dictionary.set_index(\"id\")\n",
    "\n",
    "    sentiment_labels = pandas.read_csv(os.path.join(base_directory, \"sentiment_labels.txt\"), sep=\"|\")\n",
    "    sentiment_labels.columns = [\"id\", \"sentiment\"]\n",
    "    sentiment_labels = sentiment_labels.set_index(\"id\")\n",
    "\n",
    "    phrase_sentiments = dictionary.join(sentiment_labels)\n",
    "\n",
    "    phrase_sentiments[\"fine\"] = pandas.cut(phrase_sentiments.sentiment, [0, 0.2, 0.4, 0.6, 0.8, 1.0],\n",
    "                                           include_lowest=True,\n",
    "                                           labels=[\"very negative\", \"negative\", \"neutral\", \"positive\", \"very positive\"])\n",
    "    phrase_sentiments[\"coarse\"] = phrase_sentiments.fine.apply(group_labels)\n",
    "    return phrase_sentiments\n",
    "\n"
   ]
  },
  {
   "cell_type": "code",
   "execution_count": 3,
   "metadata": {},
   "outputs": [],
   "source": [
    "def get_sentence_partitions(base_directory):\n",
    "    sentences = pandas.read_csv(os.path.join(base_directory, \"datasetSentences.txt\"), index_col=\"sentence_index\",\n",
    "                                sep=\"\\t\")\n",
    "    splits = pandas.read_csv(os.path.join(base_directory, \"datasetSplit.txt\"), index_col=\"sentence_index\")\n",
    "    return sentences.join(splits).set_index(\"sentence\")\n"
   ]
  },
  {
   "cell_type": "code",
   "execution_count": 4,
   "metadata": {},
   "outputs": [],
   "source": [
    "def partition(base_directory):\n",
    "    phrase_sentiments = get_phrase_sentiments(base_directory)\n",
    "    sentence_partitions = get_sentence_partitions(base_directory)\n",
    "    # noinspection PyUnresolvedReferences\n",
    "    data = phrase_sentiments.join(sentence_partitions, on=\"phrase\")\n",
    "    data[\"splitset_label\"] = data[\"splitset_label\"].fillna(1).astype(int)\n",
    "    data[\"phrase\"] = data[\"phrase\"].str.replace(r\"\\s('s|'d|'re|'ll|'m|'ve|n't)\\b\", lambda m: m.group(1))\n",
    "    return data.groupby(\"splitset_label\")\n"
   ]
  },
  {
   "cell_type": "code",
   "execution_count": 5,
   "metadata": {},
   "outputs": [],
   "source": [
    "base_directory = \"C:/Users/Code_love_r/Desktop\\Case_study _Amazon _reviews_sentiments\"\n",
    "for splitset, partition in partition(base_directory):\n",
    "    split_name = {1: \"train\", 2: \"test\", 3: \"dev\"}[splitset]\n",
    "    filename = os.path.join(\"Output_data\", \"stanford-sentiment-treebank.%s.csv\" % split_name)\n",
    "    del partition[\"splitset_label\"]\n",
    "    partition.to_csv(filename)"
   ]
  },
  {
   "cell_type": "markdown",
   "metadata": {},
   "source": [
    "get the data to train model"
   ]
  },
  {
   "cell_type": "code",
   "execution_count": null,
   "metadata": {},
   "outputs": [],
   "source": []
  }
 ],
 "metadata": {
  "kernelspec": {
   "display_name": "Python 3",
   "language": "python",
   "name": "python3"
  },
  "language_info": {
   "codemirror_mode": {
    "name": "ipython",
    "version": 3
   },
   "file_extension": ".py",
   "mimetype": "text/x-python",
   "name": "python",
   "nbconvert_exporter": "python",
   "pygments_lexer": "ipython3",
   "version": "3.6.5"
  }
 },
 "nbformat": 4,
 "nbformat_minor": 2
}
